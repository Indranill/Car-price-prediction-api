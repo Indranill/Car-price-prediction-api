{
 "cells": [
  {
   "cell_type": "markdown",
   "metadata": {},
   "source": [
    "### Import Libraries"
   ]
  },
  {
   "cell_type": "code",
   "execution_count": 1,
   "metadata": {},
   "outputs": [],
   "source": [
    "# load data\n",
    "import pandas as pd\n",
    "import numpy as np\n",
    "# eda\n",
    "import matplotlib.pyplot as plt\n",
    "import plotly.express as plx\n",
    "import seaborn as sns\n",
    "# stats test\n",
    "import scipy.stats as stat\n",
    "# training and preprocessing\n",
    "from sklearn.tree import DecisionTreeRegressor\n",
    "from sklearn.ensemble import RandomForestRegressor\n",
    "from sklearn.metrics import r2_score, mean_squared_error\n",
    "from xgboost import XGBRegressor, XGBRFRegressor\n",
    "from sklearn.model_selection import GridSearchCV, train_test_split\n",
    "from sklearn.preprocessing import StandardScaler, LabelEncoder\n",
    "# log models\n",
    "import mlflow\n",
    "import optuna"
   ]
  },
  {
   "cell_type": "markdown",
   "metadata": {},
   "source": [
    "### Import and Visualize data"
   ]
  },
  {
   "cell_type": "code",
   "execution_count": 2,
   "metadata": {},
   "outputs": [],
   "source": [
    "train_data = pd.read_csv('Data/train.csv')\n",
    "test_data = pd.read_csv('Data/test.csv')\n",
    "\n",
    "train = train_data\n",
    "test = test_data"
   ]
  },
  {
   "cell_type": "code",
   "execution_count": 3,
   "metadata": {},
   "outputs": [
    {
     "name": "stdout",
     "output_type": "stream",
     "text": [
      "<class 'pandas.core.frame.DataFrame'>\n",
      "RangeIndex: 19237 entries, 0 to 19236\n",
      "Data columns (total 18 columns):\n",
      " #   Column            Non-Null Count  Dtype  \n",
      "---  ------            --------------  -----  \n",
      " 0   ID                19237 non-null  int64  \n",
      " 1   Price             19237 non-null  int64  \n",
      " 2   Levy              19237 non-null  object \n",
      " 3   Manufacturer      19237 non-null  object \n",
      " 4   Model             19237 non-null  object \n",
      " 5   Prod. year        19237 non-null  int64  \n",
      " 6   Category          19237 non-null  object \n",
      " 7   Leather interior  19237 non-null  object \n",
      " 8   Fuel type         19237 non-null  object \n",
      " 9   Engine volume     19237 non-null  object \n",
      " 10  Mileage           19237 non-null  object \n",
      " 11  Cylinders         19237 non-null  float64\n",
      " 12  Gear box type     19237 non-null  object \n",
      " 13  Drive wheels      19237 non-null  object \n",
      " 14  Doors             19237 non-null  object \n",
      " 15  Wheel             19237 non-null  object \n",
      " 16  Color             19237 non-null  object \n",
      " 17  Airbags           19237 non-null  int64  \n",
      "dtypes: float64(1), int64(4), object(13)\n",
      "memory usage: 2.6+ MB\n"
     ]
    }
   ],
   "source": [
    "train.info()"
   ]
  },
  {
   "cell_type": "code",
   "execution_count": 4,
   "metadata": {},
   "outputs": [
    {
     "data": {
      "text/html": [
       "<div>\n",
       "<style scoped>\n",
       "    .dataframe tbody tr th:only-of-type {\n",
       "        vertical-align: middle;\n",
       "    }\n",
       "\n",
       "    .dataframe tbody tr th {\n",
       "        vertical-align: top;\n",
       "    }\n",
       "\n",
       "    .dataframe thead th {\n",
       "        text-align: right;\n",
       "    }\n",
       "</style>\n",
       "<table border=\"1\" class=\"dataframe\">\n",
       "  <thead>\n",
       "    <tr style=\"text-align: right;\">\n",
       "      <th></th>\n",
       "      <th>ID</th>\n",
       "      <th>Price</th>\n",
       "      <th>Levy</th>\n",
       "      <th>Manufacturer</th>\n",
       "      <th>Model</th>\n",
       "      <th>Prod. year</th>\n",
       "      <th>Category</th>\n",
       "      <th>Leather interior</th>\n",
       "      <th>Fuel type</th>\n",
       "      <th>Engine volume</th>\n",
       "      <th>Mileage</th>\n",
       "      <th>Cylinders</th>\n",
       "      <th>Gear box type</th>\n",
       "      <th>Drive wheels</th>\n",
       "      <th>Doors</th>\n",
       "      <th>Wheel</th>\n",
       "      <th>Color</th>\n",
       "      <th>Airbags</th>\n",
       "    </tr>\n",
       "  </thead>\n",
       "  <tbody>\n",
       "    <tr>\n",
       "      <th>0</th>\n",
       "      <td>45654403</td>\n",
       "      <td>13328</td>\n",
       "      <td>1399</td>\n",
       "      <td>LEXUS</td>\n",
       "      <td>RX 450</td>\n",
       "      <td>2010</td>\n",
       "      <td>Jeep</td>\n",
       "      <td>Yes</td>\n",
       "      <td>Hybrid</td>\n",
       "      <td>3.5</td>\n",
       "      <td>186005 km</td>\n",
       "      <td>6.0</td>\n",
       "      <td>Automatic</td>\n",
       "      <td>4x4</td>\n",
       "      <td>04-May</td>\n",
       "      <td>Left wheel</td>\n",
       "      <td>Silver</td>\n",
       "      <td>12</td>\n",
       "    </tr>\n",
       "    <tr>\n",
       "      <th>1</th>\n",
       "      <td>44731507</td>\n",
       "      <td>16621</td>\n",
       "      <td>1018</td>\n",
       "      <td>CHEVROLET</td>\n",
       "      <td>Equinox</td>\n",
       "      <td>2011</td>\n",
       "      <td>Jeep</td>\n",
       "      <td>No</td>\n",
       "      <td>Petrol</td>\n",
       "      <td>3</td>\n",
       "      <td>192000 km</td>\n",
       "      <td>6.0</td>\n",
       "      <td>Tiptronic</td>\n",
       "      <td>4x4</td>\n",
       "      <td>04-May</td>\n",
       "      <td>Left wheel</td>\n",
       "      <td>Black</td>\n",
       "      <td>8</td>\n",
       "    </tr>\n",
       "    <tr>\n",
       "      <th>2</th>\n",
       "      <td>45774419</td>\n",
       "      <td>8467</td>\n",
       "      <td>-</td>\n",
       "      <td>HONDA</td>\n",
       "      <td>FIT</td>\n",
       "      <td>2006</td>\n",
       "      <td>Hatchback</td>\n",
       "      <td>No</td>\n",
       "      <td>Petrol</td>\n",
       "      <td>1.3</td>\n",
       "      <td>200000 km</td>\n",
       "      <td>4.0</td>\n",
       "      <td>Variator</td>\n",
       "      <td>Front</td>\n",
       "      <td>04-May</td>\n",
       "      <td>Right-hand drive</td>\n",
       "      <td>Black</td>\n",
       "      <td>2</td>\n",
       "    </tr>\n",
       "    <tr>\n",
       "      <th>3</th>\n",
       "      <td>45769185</td>\n",
       "      <td>3607</td>\n",
       "      <td>862</td>\n",
       "      <td>FORD</td>\n",
       "      <td>Escape</td>\n",
       "      <td>2011</td>\n",
       "      <td>Jeep</td>\n",
       "      <td>Yes</td>\n",
       "      <td>Hybrid</td>\n",
       "      <td>2.5</td>\n",
       "      <td>168966 km</td>\n",
       "      <td>4.0</td>\n",
       "      <td>Automatic</td>\n",
       "      <td>4x4</td>\n",
       "      <td>04-May</td>\n",
       "      <td>Left wheel</td>\n",
       "      <td>White</td>\n",
       "      <td>0</td>\n",
       "    </tr>\n",
       "    <tr>\n",
       "      <th>4</th>\n",
       "      <td>45809263</td>\n",
       "      <td>11726</td>\n",
       "      <td>446</td>\n",
       "      <td>HONDA</td>\n",
       "      <td>FIT</td>\n",
       "      <td>2014</td>\n",
       "      <td>Hatchback</td>\n",
       "      <td>Yes</td>\n",
       "      <td>Petrol</td>\n",
       "      <td>1.3</td>\n",
       "      <td>91901 km</td>\n",
       "      <td>4.0</td>\n",
       "      <td>Automatic</td>\n",
       "      <td>Front</td>\n",
       "      <td>04-May</td>\n",
       "      <td>Left wheel</td>\n",
       "      <td>Silver</td>\n",
       "      <td>4</td>\n",
       "    </tr>\n",
       "  </tbody>\n",
       "</table>\n",
       "</div>"
      ],
      "text/plain": [
       "         ID  Price  Levy Manufacturer    Model  Prod. year   Category  \\\n",
       "0  45654403  13328  1399        LEXUS   RX 450        2010       Jeep   \n",
       "1  44731507  16621  1018    CHEVROLET  Equinox        2011       Jeep   \n",
       "2  45774419   8467     -        HONDA      FIT        2006  Hatchback   \n",
       "3  45769185   3607   862         FORD   Escape        2011       Jeep   \n",
       "4  45809263  11726   446        HONDA      FIT        2014  Hatchback   \n",
       "\n",
       "  Leather interior Fuel type Engine volume    Mileage  Cylinders  \\\n",
       "0              Yes    Hybrid           3.5  186005 km        6.0   \n",
       "1               No    Petrol             3  192000 km        6.0   \n",
       "2               No    Petrol           1.3  200000 km        4.0   \n",
       "3              Yes    Hybrid           2.5  168966 km        4.0   \n",
       "4              Yes    Petrol           1.3   91901 km        4.0   \n",
       "\n",
       "  Gear box type Drive wheels   Doors             Wheel   Color  Airbags  \n",
       "0     Automatic          4x4  04-May        Left wheel  Silver       12  \n",
       "1     Tiptronic          4x4  04-May        Left wheel   Black        8  \n",
       "2      Variator        Front  04-May  Right-hand drive   Black        2  \n",
       "3     Automatic          4x4  04-May        Left wheel   White        0  \n",
       "4     Automatic        Front  04-May        Left wheel  Silver        4  "
      ]
     },
     "execution_count": 4,
     "metadata": {},
     "output_type": "execute_result"
    }
   ],
   "source": [
    "train.head()"
   ]
  },
  {
   "cell_type": "code",
   "execution_count": 5,
   "metadata": {},
   "outputs": [],
   "source": [
    "def get_quartiles(data):    \n",
    "    q3, q1 = np.percentile(data, [75 ,25])\n",
    "    iqr = q3 - q1\n",
    "    \n",
    "    min = q1-iqr*1.5\n",
    "    if min<0:\n",
    "        min = data.min()\n",
    "\n",
    "    print('Lower Bracket: ', min)\n",
    "    print('q1 : ',q1)\n",
    "    print('The Interquartile Range for the data is:',iqr)\n",
    "    print('q3 : ',q3)\n",
    "    print('Higher Bracket: ', q3+iqr*1.5)\n",
    "    print('Data lies above Higher Bracket: ', len(data[data>q3+iqr*1.5]))\n",
    "    print('% of Data can be removed or imputed are: ', (len(data[data>q3+iqr*1.5])/len(data))*100,'%')"
   ]
  },
  {
   "cell_type": "markdown",
   "metadata": {},
   "source": [
    "### Overview of Target"
   ]
  },
  {
   "cell_type": "markdown",
   "metadata": {},
   "source": [
    "#### Price"
   ]
  },
  {
   "cell_type": "code",
   "execution_count": 6,
   "metadata": {},
   "outputs": [
    {
     "data": {
      "image/png": "[encoded data removed]",
      "text/plain": [
       "<Figure size 432x288 with 1 Axes>"
      ]
     },
     "metadata": {
      "needs_background": "light"
     },
     "output_type": "display_data"
    }
   ],
   "source": [
    "plt.boxplot(train.Price)\n",
    "plt.show()"
   ]
  },
  {
   "cell_type": "markdown",
   "metadata": {},
   "source": [
    "**Overview**\n",
    "- from the above plot we cannot visualize and come into conclusion\n",
    "- Better option is to see the quartiles of data and come into a conclusion"
   ]
  },
  {
   "cell_type": "code",
   "execution_count": 7,
   "metadata": {},
   "outputs": [
    {
     "name": "stdout",
     "output_type": "stream",
     "text": [
      "Lower Bracket:  1\n",
      "q1 :  5331.0\n",
      "The Interquartile Range for the data is: 16744.0\n",
      "q3 :  22075.0\n",
      "Higher Bracket:  47191.0\n",
      "Data lies above Higher Bracket:  1073\n",
      "% of Data can be removed or imputed are:  5.577792795134377 %\n"
     ]
    }
   ],
   "source": [
    "get_quartiles(train.Price)"
   ]
  },
  {
   "cell_type": "code",
   "execution_count": 8,
   "metadata": {},
   "outputs": [
    {
     "name": "stdout",
     "output_type": "stream",
     "text": [
      "0 %:  [1.]\n",
      "1 %:  [45.]\n",
      "2 %:  [110.]\n",
      "3 %:  [188.]\n",
      "4 %:  [251.]\n",
      "5 %:  [314.]\n",
      "6 %:  [392.]\n",
      "7 %:  [392.]\n",
      "8 %:  [470.]\n",
      "9 %:  [549.]\n",
      "10 %:  [627.]\n"
     ]
    }
   ],
   "source": [
    "### 0-10 percentage of data having car price\n",
    "for i in range(11):\n",
    "    print(i,\"%: \",np.percentile(train.Price,[i]))"
   ]
  },
  {
   "cell_type": "code",
   "execution_count": 9,
   "metadata": {},
   "outputs": [
    {
     "name": "stdout",
     "output_type": "stream",
     "text": [
      "5 %:  [314.]\n",
      "10 %:  [627.]\n",
      "20 %:  [3450.]\n",
      "30 %:  [7213.]\n",
      "40 %:  [10036.]\n",
      "50 %:  [13172.]\n",
      "60 %:  [16308.]\n",
      "70 %:  [19757.]\n",
      "80 %:  [25512.]\n",
      "90 %:  [38609.]\n",
      "95 %:  [49459.]\n",
      "98 %:  [67031.64]\n",
      "99 %:  [84675.]\n"
     ]
    }
   ],
   "source": [
    "for i in [5,10,20, 30, 40, 50, 60,70,80,90,95, 98, 99]:\n",
    "    print(i,\"%: \",np.percentile(train.Price,[i]))"
   ]
  },
  {
   "cell_type": "code",
   "execution_count": 10,
   "metadata": {},
   "outputs": [
    {
     "data": {
      "text/plain": [
       "<matplotlib.axes._subplots.AxesSubplot at 0x7f924924de50>"
      ]
     },
     "execution_count": 10,
     "metadata": {},
     "output_type": "execute_result"
    },
    {
     "data": {
      "image/png": "[encoded data removed]",
      "text/plain": [
       "<Figure size 432x288 with 1 Axes>"
      ]
     },
     "metadata": {
      "needs_background": "light"
     },
     "output_type": "display_data"
    }
   ],
   "source": [
    "sns.kdeplot(train[\"Price\"])"
   ]
  },
  {
   "cell_type": "code",
   "execution_count": 11,
   "metadata": {},
   "outputs": [
    {
     "data": {
      "text/plain": [
       "<matplotlib.axes._subplots.AxesSubplot at 0x7f92491df820>"
      ]
     },
     "execution_count": 11,
     "metadata": {},
     "output_type": "execute_result"
    },
    {
     "data": {
      "image/png": "[encoded data removed]",
      "text/plain": [
       "<Figure size 432x288 with 1 Axes>"
      ]
     },
     "metadata": {
      "needs_background": "light"
     },
     "output_type": "display_data"
    }
   ],
   "source": [
    "sns.kdeplot(np.log10(train[\"Price\"]))"
   ]
  },
  {
   "cell_type": "code",
   "execution_count": 12,
   "metadata": {},
   "outputs": [
    {
     "data": {
      "text/plain": [
       "<matplotlib.axes._subplots.AxesSubplot at 0x7f92491e2f70>"
      ]
     },
     "execution_count": 12,
     "metadata": {},
     "output_type": "execute_result"
    },
    {
     "data": {
      "image/png": "[encoded data removed]",
      "text/plain": [
       "<Figure size 432x288 with 1 Axes>"
      ]
     },
     "metadata": {
      "needs_background": "light"
     },
     "output_type": "display_data"
    }
   ],
   "source": [
    "sns.kdeplot(np.exp(np.log(train[\"Price\"])))"
   ]
  },
  {
   "cell_type": "markdown",
   "metadata": {},
   "source": [
    "**Overview**\n",
    "- as we can see that 'Price' of 10% of cars in dataset is less than 700, we can treat them as outliers\n",
    "- as we can see that Data lies above higher price bracket are 1073 i.e 5.6% of total data which can be considered as outliers\n",
    "- so we can remove the outliers or impute them"
   ]
  },
  {
   "cell_type": "markdown",
   "metadata": {},
   "source": [
    "### Overview of Features"
   ]
  },
  {
   "cell_type": "markdown",
   "metadata": {},
   "source": [
    "#### ID"
   ]
  },
  {
   "cell_type": "code",
   "execution_count": 13,
   "metadata": {
    "scrolled": true
   },
   "outputs": [
    {
     "data": {
      "text/html": [
       "<div>\n",
       "<style scoped>\n",
       "    .dataframe tbody tr th:only-of-type {\n",
       "        vertical-align: middle;\n",
       "    }\n",
       "\n",
       "    .dataframe tbody tr th {\n",
       "        vertical-align: top;\n",
       "    }\n",
       "\n",
       "    .dataframe thead th {\n",
       "        text-align: right;\n",
       "    }\n",
       "</style>\n",
       "<table border=\"1\" class=\"dataframe\">\n",
       "  <thead>\n",
       "    <tr style=\"text-align: right;\">\n",
       "      <th></th>\n",
       "      <th>ID</th>\n",
       "      <th>Price</th>\n",
       "    </tr>\n",
       "  </thead>\n",
       "  <tbody>\n",
       "    <tr>\n",
       "      <th>ID</th>\n",
       "      <td>1.000000</td>\n",
       "      <td>-0.000844</td>\n",
       "    </tr>\n",
       "    <tr>\n",
       "      <th>Price</th>\n",
       "      <td>-0.000844</td>\n",
       "      <td>1.000000</td>\n",
       "    </tr>\n",
       "  </tbody>\n",
       "</table>\n",
       "</div>"
      ],
      "text/plain": [
       "             ID     Price\n",
       "ID     1.000000 -0.000844\n",
       "Price -0.000844  1.000000"
      ]
     },
     "execution_count": 13,
     "metadata": {},
     "output_type": "execute_result"
    }
   ],
   "source": [
    "train[['ID','Price']].corr()"
   ]
  },
  {
   "cell_type": "markdown",
   "metadata": {},
   "source": [
    "**Overview**\n",
    "- as we can see that 'id' has no significant correlation with the target value in the dataset\n",
    "- so we can remove the specific column from the data"
   ]
  },
  {
   "cell_type": "markdown",
   "metadata": {},
   "source": [
    "#### Levy"
   ]
  },
  {
   "cell_type": "code",
   "execution_count": 14,
   "metadata": {},
   "outputs": [
    {
     "data": {
      "text/plain": [
       "-       5819\n",
       "765      486\n",
       "891      461\n",
       "639      410\n",
       "640      405\n",
       "        ... \n",
       "1468       1\n",
       "5877       1\n",
       "1662       1\n",
       "1678       1\n",
       "1719       1\n",
       "Name: Levy, Length: 559, dtype: int64"
      ]
     },
     "execution_count": 14,
     "metadata": {},
     "output_type": "execute_result"
    }
   ],
   "source": [
    "train['Levy'].value_counts()"
   ]
  },
  {
   "cell_type": "markdown",
   "metadata": {},
   "source": [
    "**Observations**\n",
    "- where '-' signifies no meaning and indicates missing values\n",
    "- according to the value_count there are 5819('-') among 19237 values in total\n",
    "- we need to hasndle these missing values using some imputation techniques"
   ]
  },
  {
   "cell_type": "markdown",
   "metadata": {},
   "source": [
    "#### Manufacturer"
   ]
  },
  {
   "cell_type": "code",
   "execution_count": 15,
   "metadata": {},
   "outputs": [],
   "source": [
    "car_manu = train.groupby('Manufacturer').count()[['ID']]\n",
    "car_manu_price = train.groupby('Manufacturer').median()[['Price']]"
   ]
  },
  {
   "cell_type": "code",
   "execution_count": 16,
   "metadata": {},
   "outputs": [
    {
     "name": "stdout",
     "output_type": "stream",
     "text": [
      "65 65\n",
      "0\n"
     ]
    }
   ],
   "source": [
    "models = [x.lower() for x in list(car_manu.index)]\n",
    "print(len(models), len(set(models)))\n",
    "print(len(models)-len(set(models)))"
   ]
  },
  {
   "cell_type": "markdown",
   "metadata": {},
   "source": [
    "**Overview**\n",
    "- There are 65 Manufaturers in whole dataset\n",
    "- Among which 0 Manufacturers are wrongly imputed"
   ]
  },
  {
   "cell_type": "markdown",
   "metadata": {},
   "source": [
    "**Investigation after feature importance**"
   ]
  },
  {
   "cell_type": "code",
   "execution_count": 17,
   "metadata": {},
   "outputs": [
    {
     "data": {
      "image/png": "[encoded data removed]",
      "text/plain": [
       "<Figure size 864x360 with 1 Axes>"
      ]
     },
     "metadata": {
      "needs_background": "light"
     },
     "output_type": "display_data"
    }
   ],
   "source": [
    "plt.figure(figsize=(12,5))\n",
    "sns.barplot(x = car_manu.index, y = car_manu.ID)\n",
    "plt.xticks(rotation = 90)\n",
    "plt.ylabel('Count')\n",
    "plt.show()"
   ]
  },
  {
   "cell_type": "code",
   "execution_count": 18,
   "metadata": {},
   "outputs": [
    {
     "data": {
      "image/png": "[encoded data removed]",
      "text/plain": [
       "<Figure size 864x360 with 1 Axes>"
      ]
     },
     "metadata": {
      "needs_background": "light"
     },
     "output_type": "display_data"
    }
   ],
   "source": [
    "plt.figure(figsize=(12,5))\n",
    "sns.barplot(x = car_manu_price.index, y = car_manu_price.Price)\n",
    "plt.xticks(rotation = 90)\n",
    "plt.ylabel('Count')\n",
    "plt.show()"
   ]
  },
  {
   "cell_type": "code",
   "execution_count": 19,
   "metadata": {},
   "outputs": [],
   "source": [
    "car_price = car_manu.join(car_manu_price)"
   ]
  },
  {
   "cell_type": "code",
   "execution_count": 20,
   "metadata": {},
   "outputs": [
    {
     "data": {
      "text/plain": [
       "array([10,  0,  3,  0,  2,  9,  6,  6,  9,  6,  0,  6,  6,  0,  8,  9,  9,\n",
       "        6, 10,  0,  9,  0,  4,  5,  5,  0,  5,  4,  9,  1,  9,  7,  0,  9,\n",
       "        4,  6,  0,  9,  5,  0, 10,  0,  6,  0,  6,  4,  0, 10, 10,  6,  9,\n",
       "        9,  6,  9,  7,  0,  0,  3,  9,  6, 10,  0,  0, 10,  5],\n",
       "      dtype=int32)"
      ]
     },
     "execution_count": 20,
     "metadata": {},
     "output_type": "execute_result"
    }
   ],
   "source": [
    "from sklearn.cluster import KMeans\n",
    "\n",
    "kmeans = KMeans(max_iter=70, n_clusters=11, n_init=4)\n",
    "kmeans.fit(car_price).labels_"
   ]
  },
  {
   "cell_type": "code",
   "execution_count": 21,
   "metadata": {},
   "outputs": [
    {
     "data": {
      "text/plain": [
       "<matplotlib.collections.PathCollection at 0x7f92489f29a0>"
      ]
     },
     "execution_count": 21,
     "metadata": {},
     "output_type": "execute_result"
    },
    {
     "data": {
      "image/png": "[encoded data removed]",
      "text/plain": [
       "<Figure size 432x288 with 1 Axes>"
      ]
     },
     "metadata": {
      "needs_background": "light"
     },
     "output_type": "display_data"
    }
   ],
   "source": [
    "plt.scatter(car_manu,car_manu_price, c=kmeans.labels_, cmap='rainbow')"
   ]
  },
  {
   "cell_type": "markdown",
   "metadata": {},
   "source": [
    "**Overview**\n",
    "- as there are huge number of categories i.e 65 and their density is "
   ]
  },
  {
   "cell_type": "code",
   "execution_count": 22,
   "metadata": {},
   "outputs": [],
   "source": [
    "car_price['Labels'] = kmeans.fit(car_price).labels_"
   ]
  },
  {
   "cell_type": "code",
   "execution_count": 23,
   "metadata": {},
   "outputs": [
    {
     "data": {
      "image/png": "[encoded data removed]",
      "text/plain": [
       "<Figure size 864x360 with 1 Axes>"
      ]
     },
     "metadata": {
      "needs_background": "light"
     },
     "output_type": "display_data"
    },
    {
     "data": {
      "image/png": "[encoded data removed]",
      "text/plain": [
       "<Figure size 864x360 with 1 Axes>"
      ]
     },
     "metadata": {
      "needs_background": "light"
     },
     "output_type": "display_data"
    }
   ],
   "source": [
    "plt.figure(figsize=(12,5))\n",
    "car_price2 = car_price.groupby('Labels').sum()[['ID']]\n",
    "sns.barplot(x = car_price2.index, y = car_price2.ID)\n",
    "plt.xticks(rotation = 90)\n",
    "plt.ylabel('Count')\n",
    "plt.show()\n",
    "\n",
    "plt.figure(figsize=(12,5))\n",
    "car_price2 = car_price.groupby('Labels').median()[['Price']]\n",
    "sns.barplot(x = car_price2.index, y = car_price2.Price)\n",
    "plt.xticks(rotation = 90)\n",
    "plt.ylabel('Median Price')\n",
    "plt.show()"
   ]
  },
  {
   "cell_type": "code",
   "execution_count": 24,
   "metadata": {},
   "outputs": [],
   "source": [
    "# Save the labels to the manufacturer dict\n",
    "manufacturer_dict = dict(zip(car_price.index, [str(i) for i in car_price['Labels']]))"
   ]
  },
  {
   "cell_type": "markdown",
   "metadata": {},
   "source": [
    "#### Model"
   ]
  },
  {
   "cell_type": "code",
   "execution_count": 25,
   "metadata": {},
   "outputs": [],
   "source": [
    "car_models = train.groupby('Model').count()[['ID']]\n",
    "car_models_price = train.groupby('Model').median()[['Price']]"
   ]
  },
  {
   "cell_type": "code",
   "execution_count": 26,
   "metadata": {
    "scrolled": true
   },
   "outputs": [
    {
     "data": {
      "text/html": [
       "<div>\n",
       "<style scoped>\n",
       "    .dataframe tbody tr th:only-of-type {\n",
       "        vertical-align: middle;\n",
       "    }\n",
       "\n",
       "    .dataframe tbody tr th {\n",
       "        vertical-align: top;\n",
       "    }\n",
       "\n",
       "    .dataframe thead th {\n",
       "        text-align: right;\n",
       "    }\n",
       "</style>\n",
       "<table border=\"1\" class=\"dataframe\">\n",
       "  <thead>\n",
       "    <tr style=\"text-align: right;\">\n",
       "      <th></th>\n",
       "      <th>ID</th>\n",
       "    </tr>\n",
       "    <tr>\n",
       "      <th>Model</th>\n",
       "      <th></th>\n",
       "    </tr>\n",
       "  </thead>\n",
       "  <tbody>\n",
       "    <tr>\n",
       "      <th>09-Mar</th>\n",
       "      <td>2</td>\n",
       "    </tr>\n",
       "    <tr>\n",
       "      <th>100</th>\n",
       "      <td>2</td>\n",
       "    </tr>\n",
       "    <tr>\n",
       "      <th>100 NX</th>\n",
       "      <td>1</td>\n",
       "    </tr>\n",
       "    <tr>\n",
       "      <th>1000</th>\n",
       "      <td>17</td>\n",
       "    </tr>\n",
       "    <tr>\n",
       "      <th>1111</th>\n",
       "      <td>1</td>\n",
       "    </tr>\n",
       "  </tbody>\n",
       "</table>\n",
       "</div>"
      ],
      "text/plain": [
       "        ID\n",
       "Model     \n",
       "09-Mar   2\n",
       "100      2\n",
       "100 NX   1\n",
       "1000    17\n",
       "1111     1"
      ]
     },
     "execution_count": 26,
     "metadata": {},
     "output_type": "execute_result"
    }
   ],
   "source": [
    "car_models.head()"
   ]
  },
  {
   "cell_type": "code",
   "execution_count": 27,
   "metadata": {},
   "outputs": [
    {
     "name": "stdout",
     "output_type": "stream",
     "text": [
      "1590 1511\n",
      "79\n"
     ]
    }
   ],
   "source": [
    "models = [x.lower() for x in list(car_models.index)]\n",
    "print(len(models), len(set(models)))\n",
    "print(len(models)-len(set(models)))"
   ]
  },
  {
   "cell_type": "code",
   "execution_count": 28,
   "metadata": {},
   "outputs": [
    {
     "name": "stdout",
     "output_type": "stream",
     "text": [
      "651 models will be left\n"
     ]
    }
   ],
   "source": [
    "# grouping car models with less production we are left with \n",
    "print(len(car_models) - len(car_models[car_models['ID'] == 1]), 'models will be left')"
   ]
  },
  {
   "cell_type": "code",
   "execution_count": 29,
   "metadata": {},
   "outputs": [
    {
     "data": {
      "text/plain": [
       "Index(['100 NX', '1111', '116', '118', '118 2,0', '118 M-sport LCI', '120',\n",
       "       '128', '128 M tech', '130',\n",
       "       ...\n",
       "       'Yaris iA', 'Z4', 'Z4 3,0 SI', 'Zafira B', 'i20', 'i3', 'i40',\n",
       "       'iA isti', 'kona', 'macan S'],\n",
       "      dtype='object', name='Model', length=939)"
      ]
     },
     "execution_count": 29,
     "metadata": {},
     "output_type": "execute_result"
    }
   ],
   "source": [
    "car_models[car_models['ID'] == 1].index"
   ]
  },
  {
   "cell_type": "code",
   "execution_count": 30,
   "metadata": {},
   "outputs": [
    {
     "data": {
      "text/plain": [
       "<matplotlib.collections.PathCollection at 0x7f92483d8fd0>"
      ]
     },
     "execution_count": 30,
     "metadata": {},
     "output_type": "execute_result"
    },
    {
     "data": {
      "image/png": "[encoded data removed]",
      "text/plain": [
       "<Figure size 432x288 with 1 Axes>"
      ]
     },
     "metadata": {
      "needs_background": "light"
     },
     "output_type": "display_data"
    }
   ],
   "source": [
    "car_model = car_models.join(car_models_price)\n",
    "kmeans = KMeans(max_iter=70, n_clusters=10, n_init=4)\n",
    "kmeans.fit(car_model).labels_\n",
    "car_model['Labels'] = kmeans.labels_\n",
    "plt.scatter(car_models,car_models_price, c=kmeans.labels_, cmap='rainbow')"
   ]
  },
  {
   "cell_type": "code",
   "execution_count": 31,
   "metadata": {},
   "outputs": [],
   "source": [
    "models_dict = dict(zip(car_model.index, [str(i) for i in car_model['Labels']]))"
   ]
  },
  {
   "cell_type": "markdown",
   "metadata": {},
   "source": [
    "**Overview**\n",
    "- Models having similar names and having typing problem with Upper and Lower letters.\n",
    "- There are 79 models as such\n",
    "- Now the total unique models left are 1511 from 1590\n",
    "- we can group models sold once into a category as 'others' we are left with 651 models"
   ]
  },
  {
   "cell_type": "code",
   "execution_count": 32,
   "metadata": {
    "scrolled": true
   },
   "outputs": [
    {
     "data": {
      "text/html": [
       "<div>\n",
       "<style scoped>\n",
       "    .dataframe tbody tr th:only-of-type {\n",
       "        vertical-align: middle;\n",
       "    }\n",
       "\n",
       "    .dataframe tbody tr th {\n",
       "        vertical-align: top;\n",
       "    }\n",
       "\n",
       "    .dataframe thead th {\n",
       "        text-align: right;\n",
       "    }\n",
       "</style>\n",
       "<table border=\"1\" class=\"dataframe\">\n",
       "  <thead>\n",
       "    <tr style=\"text-align: right;\">\n",
       "      <th></th>\n",
       "      <th>ID</th>\n",
       "    </tr>\n",
       "  </thead>\n",
       "  <tbody>\n",
       "    <tr>\n",
       "      <th>count</th>\n",
       "      <td>1590.000000</td>\n",
       "    </tr>\n",
       "    <tr>\n",
       "      <th>mean</th>\n",
       "      <td>12.098742</td>\n",
       "    </tr>\n",
       "    <tr>\n",
       "      <th>std</th>\n",
       "      <td>62.955964</td>\n",
       "    </tr>\n",
       "    <tr>\n",
       "      <th>min</th>\n",
       "      <td>1.000000</td>\n",
       "    </tr>\n",
       "    <tr>\n",
       "      <th>25%</th>\n",
       "      <td>1.000000</td>\n",
       "    </tr>\n",
       "    <tr>\n",
       "      <th>50%</th>\n",
       "      <td>1.000000</td>\n",
       "    </tr>\n",
       "    <tr>\n",
       "      <th>75%</th>\n",
       "      <td>3.000000</td>\n",
       "    </tr>\n",
       "    <tr>\n",
       "      <th>max</th>\n",
       "      <td>1083.000000</td>\n",
       "    </tr>\n",
       "  </tbody>\n",
       "</table>\n",
       "</div>"
      ],
      "text/plain": [
       "                ID\n",
       "count  1590.000000\n",
       "mean     12.098742\n",
       "std      62.955964\n",
       "min       1.000000\n",
       "25%       1.000000\n",
       "50%       1.000000\n",
       "75%       3.000000\n",
       "max    1083.000000"
      ]
     },
     "execution_count": 32,
     "metadata": {},
     "output_type": "execute_result"
    }
   ],
   "source": [
    "car_models.describe()"
   ]
  },
  {
   "cell_type": "code",
   "execution_count": 33,
   "metadata": {},
   "outputs": [
    {
     "data": {
      "text/html": [
       "<div>\n",
       "<style scoped>\n",
       "    .dataframe tbody tr th:only-of-type {\n",
       "        vertical-align: middle;\n",
       "    }\n",
       "\n",
       "    .dataframe tbody tr th {\n",
       "        vertical-align: top;\n",
       "    }\n",
       "\n",
       "    .dataframe thead th {\n",
       "        text-align: right;\n",
       "    }\n",
       "</style>\n",
       "<table border=\"1\" class=\"dataframe\">\n",
       "  <thead>\n",
       "    <tr style=\"text-align: right;\">\n",
       "      <th></th>\n",
       "      <th>ID</th>\n",
       "    </tr>\n",
       "    <tr>\n",
       "      <th>Model</th>\n",
       "      <th></th>\n",
       "    </tr>\n",
       "  </thead>\n",
       "  <tbody>\n",
       "    <tr>\n",
       "      <th>Prius</th>\n",
       "      <td>1083</td>\n",
       "    </tr>\n",
       "  </tbody>\n",
       "</table>\n",
       "</div>"
      ],
      "text/plain": [
       "         ID\n",
       "Model      \n",
       "Prius  1083"
      ]
     },
     "execution_count": 33,
     "metadata": {},
     "output_type": "execute_result"
    }
   ],
   "source": [
    "max_count = car_models.max().values[0]\n",
    "car_models[car_models['ID'] == max_count]"
   ]
  },
  {
   "cell_type": "markdown",
   "metadata": {},
   "source": [
    "**Overview**\n",
    "- we can see that there are 1590 unique models in a dataset of size 19237\n",
    "- maximum number of datapoints for any model is 1083 which is Prius\n",
    "- 50% of the models consists only 1 datapoint"
   ]
  },
  {
   "cell_type": "markdown",
   "metadata": {},
   "source": [
    "#### Production Year"
   ]
  },
  {
   "cell_type": "code",
   "execution_count": 34,
   "metadata": {},
   "outputs": [],
   "source": [
    "car_production = train.groupby('Prod. year').count()[['ID']]\n",
    "car_production_price = train.groupby('Prod. year').median()[['Price']]"
   ]
  },
  {
   "cell_type": "code",
   "execution_count": 35,
   "metadata": {},
   "outputs": [
    {
     "data": {
      "text/plain": [
       "54"
      ]
     },
     "execution_count": 35,
     "metadata": {},
     "output_type": "execute_result"
    }
   ],
   "source": [
    "len(car_production) ## no of years data is stored"
   ]
  },
  {
   "cell_type": "code",
   "execution_count": 36,
   "metadata": {},
   "outputs": [
    {
     "data": {
      "image/png": "[encoded data removed]",
      "text/plain": [
       "<Figure size 864x360 with 1 Axes>"
      ]
     },
     "metadata": {
      "needs_background": "light"
     },
     "output_type": "display_data"
    }
   ],
   "source": [
    "plt.figure(figsize=(12,5))\n",
    "sns.barplot(x = car_production.index, y = car_production.ID)\n",
    "plt.xticks(rotation = 90)\n",
    "plt.ylabel('Count')\n",
    "plt.show()"
   ]
  },
  {
   "cell_type": "code",
   "execution_count": 37,
   "metadata": {},
   "outputs": [
    {
     "data": {
      "image/png": "[encoded data removed]",
      "text/plain": [
       "<Figure size 864x360 with 1 Axes>"
      ]
     },
     "metadata": {
      "needs_background": "light"
     },
     "output_type": "display_data"
    }
   ],
   "source": [
    "plt.figure(figsize=(12,5))\n",
    "sns.barplot(x = car_production_price.index, y = car_production_price.Price)\n",
    "plt.xticks(rotation = 90)\n",
    "plt.ylabel('mean price')\n",
    "plt.show()"
   ]
  },
  {
   "cell_type": "code",
   "execution_count": 38,
   "metadata": {},
   "outputs": [
    {
     "data": {
      "text/plain": [
       "26307500"
      ]
     },
     "execution_count": 38,
     "metadata": {},
     "output_type": "execute_result"
    }
   ],
   "source": [
    "## highest price of a car\n",
    "train.Price.max()"
   ]
  },
  {
   "cell_type": "code",
   "execution_count": 39,
   "metadata": {},
   "outputs": [
    {
     "data": {
      "text/plain": [
       "13172.0"
      ]
     },
     "execution_count": 39,
     "metadata": {},
     "output_type": "execute_result"
    }
   ],
   "source": [
    "train.Price.median()"
   ]
  },
  {
   "cell_type": "code",
   "execution_count": 40,
   "metadata": {},
   "outputs": [
    {
     "name": "stdout",
     "output_type": "stream",
     "text": [
      "1939 157.0 171.33333333333334 (3,)\n",
      "1943 119172.0 119172.0 (1,)\n",
      "1947 150.0 150.0 (1,)\n",
      "1953 9440.5 17735.25 (4,)\n",
      "1957 7527.0 7527.0 (1,)\n",
      "1964 6585.5 6585.5 (2,)\n",
      "1965 65074.0 65074.0 (2,)\n",
      "1968 2200.0 2200.0 (1,)\n",
      "1973 15681.0 15681.0 (1,)\n",
      "1974 2437.0 2437.0 (2,)\n",
      "1976 400.0 400.0 (1,)\n",
      "1977 10340.5 10340.5 (2,)\n",
      "1978 1400.0 1400.0 (2,)\n",
      "1980 1925.0 1925.0 (2,)\n",
      "1981 2800.0 2800.0 (1,)\n",
      "1982 31361.0 31361.0 (1,)\n",
      "1983 1200.0 1300.0 (3,)\n",
      "1984 2000.0 4046.0 (5,)\n",
      "1985 4200.0 2995.0 (5,)\n",
      "1986 4155.5 4906.833333333333 (6,)\n",
      "1987 6899.0 8828.4 (5,)\n",
      "1988 3381.5 4849.25 (12,)\n",
      "1989 3606.5 3546.3333333333335 (6,)\n",
      "1990 3136.0 5215.5 (18,)\n",
      "1991 4195.5 4746.8 (10,)\n",
      "1992 4547.5 5677.066666666667 (30,)\n",
      "1993 3450.0 6407.95652173913 (23,)\n",
      "1994 4602.0 5968.880952380952 (42,)\n"
     ]
    }
   ],
   "source": [
    "train_mm = train[train['Prod. year']<=1994]\n",
    "\n",
    "for i in sorted(train_mm['Prod. year'].unique()):\n",
    "    train_nn = train_mm[train_mm['Prod. year'] == i].Price\n",
    "    \n",
    "    print(i , train_nn.median(), train_nn.mean(), train_nn.shape)"
   ]
  },
  {
   "cell_type": "code",
   "execution_count": null,
   "metadata": {},
   "outputs": [],
   "source": []
  },
  {
   "cell_type": "markdown",
   "metadata": {},
   "source": [
    "**Overview**\n",
    "- There are 54 years of data stored\n",
    "- There are very less car data from year 1939 to 1993\n",
    "- Looks like proper record of car data are kept from year 1995"
   ]
  },
  {
   "cell_type": "code",
   "execution_count": 41,
   "metadata": {},
   "outputs": [
    {
     "data": {
      "text/plain": [
       "1993.5"
      ]
     },
     "execution_count": 41,
     "metadata": {},
     "output_type": "execute_result"
    }
   ],
   "source": [
    "np.median(np.array(car_production.index))"
   ]
  },
  {
   "cell_type": "code",
   "execution_count": 42,
   "metadata": {},
   "outputs": [],
   "source": [
    "sum1 = car_production[car_production.index <= 1993].sum()\n",
    "sum2 = car_production[car_production.index > 1993].sum()"
   ]
  },
  {
   "cell_type": "code",
   "execution_count": 43,
   "metadata": {},
   "outputs": [
    {
     "name": "stdout",
     "output_type": "stream",
     "text": [
      "Car Manufactured from 1939 to 1993 are:  150\n",
      "Car Manufactured from 1994 to 2020 are:  19087\n"
     ]
    }
   ],
   "source": [
    "print('Car Manufactured from 1939 to 1993 are: ', sum1[0])\n",
    "print('Car Manufactured from 1994 to 2020 are: ', sum2[0])"
   ]
  },
  {
   "cell_type": "markdown",
   "metadata": {},
   "source": [
    "**Overview**\n",
    "- There are 54 years of data stored\n",
    "- There are very less data from year 1939 to 1993 i.e 150, which can be taken as a whole another year with a lesser number"
   ]
  },
  {
   "cell_type": "markdown",
   "metadata": {},
   "source": [
    "#### Category"
   ]
  },
  {
   "cell_type": "code",
   "execution_count": 44,
   "metadata": {},
   "outputs": [],
   "source": [
    "car_category = train.groupby('Category').count()[['ID']].rename(columns = {'ID':'Count'})\n",
    "car_category_price = train.groupby('Category').median()[['Price']]"
   ]
  },
  {
   "cell_type": "code",
   "execution_count": 45,
   "metadata": {},
   "outputs": [
    {
     "data": {
      "text/plain": [
       "([0, 1, 2, 3, 4, 5, 6, 7, 8, 9, 10],\n",
       " <a list of 11 Text major ticklabel objects>)"
      ]
     },
     "execution_count": 45,
     "metadata": {},
     "output_type": "execute_result"
    },
    {
     "data": {
      "image/png": "[encoded data removed]",
      "text/plain": [
       "<Figure size 432x288 with 1 Axes>"
      ]
     },
     "metadata": {
      "needs_background": "light"
     },
     "output_type": "display_data"
    }
   ],
   "source": [
    "plt.bar(x = car_category_price.index, height = car_category_price['Price'])\n",
    "plt.bar(x = car_category.index, height = car_category['Count'])\n",
    "plt.xlabel('car_category')\n",
    "plt.ylabel('Mean Price')\n",
    "plt.xticks(rotation = 90)"
   ]
  },
  {
   "cell_type": "markdown",
   "metadata": {},
   "source": [
    "**Overview**\n",
    "- orange color tell the count of car data according to type\n",
    "- There is no correlation to the number of car sold according to category and price"
   ]
  },
  {
   "cell_type": "markdown",
   "metadata": {},
   "source": [
    "#### Leather Interior"
   ]
  },
  {
   "cell_type": "code",
   "execution_count": 46,
   "metadata": {},
   "outputs": [
    {
     "data": {
      "text/plain": [
       "array(['Yes', 'No'], dtype=object)"
      ]
     },
     "execution_count": 46,
     "metadata": {},
     "output_type": "execute_result"
    }
   ],
   "source": [
    "train['Leather interior'].unique()"
   ]
  },
  {
   "cell_type": "markdown",
   "metadata": {},
   "source": [
    "#### Fuel Type"
   ]
  },
  {
   "cell_type": "code",
   "execution_count": 47,
   "metadata": {},
   "outputs": [
    {
     "data": {
      "text/plain": [
       "array(['Hybrid', 'Petrol', 'Diesel', 'CNG', 'Plug-in Hybrid', 'LPG',\n",
       "       'Hydrogen'], dtype=object)"
      ]
     },
     "execution_count": 47,
     "metadata": {},
     "output_type": "execute_result"
    }
   ],
   "source": [
    "train['Fuel type'].unique()"
   ]
  },
  {
   "cell_type": "code",
   "execution_count": 48,
   "metadata": {},
   "outputs": [
    {
     "data": {
      "image/png": "[encoded data removed]",
      "text/plain": [
       "<Figure size 432x288 with 1 Axes>"
      ]
     },
     "metadata": {
      "needs_background": "light"
     },
     "output_type": "display_data"
    }
   ],
   "source": [
    "car_fuel_price = train.groupby('Fuel type').mean()[['Price']]\n",
    "car_fuel_price = car_fuel_price.sort_values(by=['Price'])\n",
    "\n",
    "plt.bar(x = car_fuel_price.index, height = car_fuel_price['Price'])\n",
    "plt.xlabel('Fuel type')\n",
    "plt.ylabel('Price')\n",
    "plt.xticks(rotation = 90)\n",
    "plt.show()"
   ]
  },
  {
   "cell_type": "markdown",
   "metadata": {},
   "source": [
    "**Overview**\n",
    "- we can visualize mean price of cars are correlated to the fuel type\n",
    "- which means fuel type will have an effect on price prediction of cars"
   ]
  },
  {
   "cell_type": "markdown",
   "metadata": {},
   "source": [
    "#### Engine Volume"
   ]
  },
  {
   "cell_type": "code",
   "execution_count": 49,
   "metadata": {},
   "outputs": [
    {
     "data": {
      "text/plain": [
       "array(['3.5', '3', '1.3', '2.5', '2', '1.8', '2.4', '4', '1.6', '3.3',\n",
       "       '2.0 Turbo', '2.2 Turbo', '4.7', '1.5', '4.4', '3.0 Turbo',\n",
       "       '1.4 Turbo', '3.6', '2.3', '1.5 Turbo', '1.6 Turbo', '2.2',\n",
       "       '2.3 Turbo', '1.4', '5.5', '2.8 Turbo', '3.2', '3.8', '4.6', '1.2',\n",
       "       '5', '1.7', '2.9', '0.5', '1.8 Turbo', '2.4 Turbo', '3.5 Turbo',\n",
       "       '1.9', '2.7', '4.8', '5.3', '0.4', '2.8', '3.2 Turbo', '1.1',\n",
       "       '2.1', '0.7', '5.4', '1.3 Turbo', '3.7', '1', '2.5 Turbo', '2.6',\n",
       "       '1.9 Turbo', '4.4 Turbo', '4.7 Turbo', '0.8', '0.2 Turbo', '5.7',\n",
       "       '4.8 Turbo', '4.6 Turbo', '6.7', '6.2', '1.2 Turbo', '3.4',\n",
       "       '1.7 Turbo', '6.3 Turbo', '2.7 Turbo', '4.3', '4.2', '2.9 Turbo',\n",
       "       '0', '4.0 Turbo', '20', '3.6 Turbo', '0.3', '3.7 Turbo', '5.9',\n",
       "       '5.5 Turbo', '0.2', '2.1 Turbo', '5.6', '6', '0.7 Turbo',\n",
       "       '0.6 Turbo', '6.8', '4.5', '0.6', '7.3', '0.1', '1.0 Turbo', '6.3',\n",
       "       '4.5 Turbo', '0.8 Turbo', '4.2 Turbo', '3.1', '5.0 Turbo', '6.4',\n",
       "       '3.9', '5.7 Turbo', '0.9', '0.4 Turbo', '5.4 Turbo', '0.3 Turbo',\n",
       "       '5.2', '5.8', '1.1 Turbo'], dtype=object)"
      ]
     },
     "execution_count": 49,
     "metadata": {},
     "output_type": "execute_result"
    }
   ],
   "source": [
    "train['Engine volume'].unique()"
   ]
  },
  {
   "cell_type": "markdown",
   "metadata": {},
   "source": [
    "**Overview**\n",
    "- Engine volumes are described of two type either normal or turbo\n",
    "- We can make a seperate column for turbo and seperate for engine volume"
   ]
  },
  {
   "cell_type": "markdown",
   "metadata": {},
   "source": [
    "#### Mileage"
   ]
  },
  {
   "cell_type": "markdown",
   "metadata": {},
   "source": [
    "**Observation**\n",
    "- Mileage is of categorical type so we need to extract the numerical form"
   ]
  },
  {
   "cell_type": "markdown",
   "metadata": {},
   "source": [
    "#### Cylinders"
   ]
  },
  {
   "cell_type": "code",
   "execution_count": 50,
   "metadata": {},
   "outputs": [
    {
     "data": {
      "text/plain": [
       "array([ 6.,  4.,  8.,  1., 12.,  3.,  2., 16.,  5.,  7.,  9., 10., 14.])"
      ]
     },
     "execution_count": 50,
     "metadata": {},
     "output_type": "execute_result"
    }
   ],
   "source": [
    "train['Cylinders'].unique()"
   ]
  },
  {
   "cell_type": "code",
   "execution_count": 51,
   "metadata": {},
   "outputs": [
    {
     "data": {
      "image/png": "[encoded data removed]",
      "text/plain": [
       "<Figure size 432x288 with 1 Axes>"
      ]
     },
     "metadata": {
      "needs_background": "light"
     },
     "output_type": "display_data"
    },
    {
     "name": "stdout",
     "output_type": "stream",
     "text": [
      "              ID\n",
      "Cylinders       \n",
      "1.0           38\n",
      "2.0           42\n",
      "3.0          107\n",
      "4.0        14367\n",
      "5.0          169\n",
      "6.0         3462\n",
      "7.0            4\n",
      "8.0          991\n",
      "9.0            1\n",
      "10.0          12\n",
      "12.0          38\n",
      "14.0           1\n",
      "16.0           5\n"
     ]
    }
   ],
   "source": [
    "car_cylinders_price = train.groupby('Cylinders').mean()[['Price']]\n",
    "car_cylinders_price = car_cylinders_price.sort_values(by=['Price'])\n",
    "\n",
    "plt.bar(x = car_cylinders_price.index, height = car_cylinders_price['Price'])\n",
    "plt.xlabel('Cylinders')\n",
    "plt.ylabel('Price')\n",
    "plt.xticks(rotation = 90)\n",
    "plt.show()\n",
    "\n",
    "print(train.groupby('Cylinders').count()[['ID']])"
   ]
  },
  {
   "cell_type": "markdown",
   "metadata": {},
   "source": [
    "#### Gear Box Type"
   ]
  },
  {
   "cell_type": "code",
   "execution_count": 52,
   "metadata": {},
   "outputs": [
    {
     "data": {
      "text/plain": [
       "array(['Automatic', 'Tiptronic', 'Variator', 'Manual'], dtype=object)"
      ]
     },
     "execution_count": 52,
     "metadata": {},
     "output_type": "execute_result"
    }
   ],
   "source": [
    "train['Gear box type'].unique()"
   ]
  },
  {
   "cell_type": "code",
   "execution_count": 53,
   "metadata": {},
   "outputs": [
    {
     "data": {
      "image/png": "[encoded data removed]",
      "text/plain": [
       "<Figure size 432x288 with 1 Axes>"
      ]
     },
     "metadata": {
      "needs_background": "light"
     },
     "output_type": "display_data"
    },
    {
     "name": "stdout",
     "output_type": "stream",
     "text": [
      "                  ID\n",
      "Gear box type       \n",
      "Automatic      13514\n",
      "Manual          1875\n",
      "Tiptronic       3102\n",
      "Variator         746\n"
     ]
    }
   ],
   "source": [
    "car_gear_box_price = train.groupby('Gear box type').median()[['Price']]\n",
    "car_gear_box_price = car_gear_box_price.sort_values(by=['Price'])\n",
    "\n",
    "plt.bar(x = car_gear_box_price.index, height = car_gear_box_price['Price'])\n",
    "plt.xlabel('Gear box type')\n",
    "plt.ylabel('Price')\n",
    "plt.xticks(rotation = 90)\n",
    "plt.show()\n",
    "\n",
    "print(train.groupby('Gear box type').count()[['ID']])"
   ]
  },
  {
   "cell_type": "code",
   "execution_count": 54,
   "metadata": {},
   "outputs": [
    {
     "name": "stdout",
     "output_type": "stream",
     "text": [
      "H0: there is no significance difference in group means\n",
      "H1: there is significant difference in groups\n",
      "The variances are not same\n",
      "We accept H1 and reject H0\n"
     ]
    }
   ],
   "source": [
    "### using stat technique find if the values are linked or indipendent by price\n",
    "door2 = train[train['Doors'] == '02-Mar']['Price']\n",
    "door4 = train[train['Doors'] == '04-May']['Price']\n",
    "door5 = train[train['Doors'] == '>5']['Price']\n",
    "\n",
    "var2 = door2.std()**2\n",
    "var4 = door4.std()**2\n",
    "var5 = door5.std()**2\n",
    "\n",
    "print('H0: there is no significance difference in group means')\n",
    "print('H1: there is significant difference in groups')\n",
    "\n",
    "if var2 != var4 or var4 != var5:\n",
    "    print('The variances are not same')\n",
    "\n",
    "\n",
    "if(stat.f_oneway(door2, door4, door5).pvalue > 0.05):\n",
    "    print('We failed to reject H0')\n",
    "else :\n",
    "    print('We accept H1 and reject H0')\n",
    "\n"
   ]
  },
  {
   "cell_type": "markdown",
   "metadata": {},
   "source": [
    "#### Drive Wheels "
   ]
  },
  {
   "cell_type": "code",
   "execution_count": 55,
   "metadata": {},
   "outputs": [
    {
     "data": {
      "text/plain": [
       "array(['4x4', 'Front', 'Rear'], dtype=object)"
      ]
     },
     "execution_count": 55,
     "metadata": {},
     "output_type": "execute_result"
    }
   ],
   "source": [
    "train['Drive wheels'].unique()"
   ]
  },
  {
   "cell_type": "code",
   "execution_count": 56,
   "metadata": {},
   "outputs": [
    {
     "data": {
      "image/png": "[encoded data removed]",
      "text/plain": [
       "<Figure size 432x288 with 1 Axes>"
      ]
     },
     "metadata": {
      "needs_background": "light"
     },
     "output_type": "display_data"
    },
    {
     "name": "stdout",
     "output_type": "stream",
     "text": [
      "                 ID\n",
      "Drive wheels       \n",
      "4x4            4058\n",
      "Front         12874\n",
      "Rear           2305\n"
     ]
    }
   ],
   "source": [
    "car_Drive_wheels_price = train.groupby('Drive wheels').mean()[['Price']]\n",
    "car_Drive_wheels_price = car_Drive_wheels_price.sort_values(by=['Price'])\n",
    "\n",
    "plt.bar(x = car_Drive_wheels_price.index, height = car_Drive_wheels_price['Price'])\n",
    "plt.xlabel('Drive wheels')\n",
    "plt.ylabel('Price')\n",
    "plt.xticks(rotation = 90)\n",
    "plt.show()\n",
    "\n",
    "print(train.groupby('Drive wheels').count()[['ID']])"
   ]
  },
  {
   "cell_type": "markdown",
   "metadata": {},
   "source": [
    "#### Doors"
   ]
  },
  {
   "cell_type": "code",
   "execution_count": 57,
   "metadata": {},
   "outputs": [
    {
     "data": {
      "text/plain": [
       "array(['04-May', '02-Mar', '>5'], dtype=object)"
      ]
     },
     "execution_count": 57,
     "metadata": {},
     "output_type": "execute_result"
    }
   ],
   "source": [
    "train['Doors'].unique()"
   ]
  },
  {
   "cell_type": "code",
   "execution_count": 58,
   "metadata": {},
   "outputs": [
    {
     "data": {
      "image/png": "[encoded data removed]",
      "text/plain": [
       "<Figure size 432x288 with 1 Axes>"
      ]
     },
     "metadata": {
      "needs_background": "light"
     },
     "output_type": "display_data"
    },
    {
     "name": "stdout",
     "output_type": "stream",
     "text": [
      "           ID\n",
      "Doors        \n",
      "02-Mar    777\n",
      "04-May  18332\n",
      ">5        128\n"
     ]
    }
   ],
   "source": [
    "car_Doors_price = train.groupby('Doors').mean()[['Price']]\n",
    "car_Doors_price = car_Doors_price.sort_values(by=['Price'])\n",
    "\n",
    "plt.bar(x = car_Doors_price.index, height = car_Doors_price['Price'])\n",
    "plt.xlabel('Doors')\n",
    "plt.ylabel('Price')\n",
    "plt.xticks(rotation = 90)\n",
    "plt.show()\n",
    "\n",
    "print(train.groupby('Doors').count()[['ID']])"
   ]
  },
  {
   "cell_type": "code",
   "execution_count": 59,
   "metadata": {},
   "outputs": [
    {
     "name": "stdout",
     "output_type": "stream",
     "text": [
      "H0: there is no significance difference in group means\n",
      "H1: there is significant difference in groups\n",
      "We accept H1 and reject H0\n"
     ]
    }
   ],
   "source": [
    "### using stat technique find if the values are linked or indipendent by price\n",
    "door2 = train[train['Doors'] == '02-Mar']['Price']\n",
    "door4 = train[train['Doors'] == '04-May']['Price']\n",
    "door5 = train[train['Doors'] == '>5']['Price']\n",
    "\n",
    "print('H0: there is no significance difference in group means')\n",
    "print('H1: there is significant difference in groups')\n",
    "\n",
    "if(stat.f_oneway(door2, door4, door5).pvalue > 0.05):\n",
    "    print('We failed to reject H0')\n",
    "else :\n",
    "    print('We accept H1 and reject H0')"
   ]
  },
  {
   "cell_type": "markdown",
   "metadata": {},
   "source": [
    "#### Wheel"
   ]
  },
  {
   "cell_type": "code",
   "execution_count": 60,
   "metadata": {},
   "outputs": [
    {
     "data": {
      "text/plain": [
       "array(['Left wheel', 'Right-hand drive'], dtype=object)"
      ]
     },
     "execution_count": 60,
     "metadata": {},
     "output_type": "execute_result"
    }
   ],
   "source": [
    "train['Wheel'].unique()"
   ]
  },
  {
   "cell_type": "code",
   "execution_count": 61,
   "metadata": {},
   "outputs": [
    {
     "data": {
      "image/png": "[encoded data removed]",
      "text/plain": [
       "<Figure size 432x288 with 1 Axes>"
      ]
     },
     "metadata": {
      "needs_background": "light"
     },
     "output_type": "display_data"
    },
    {
     "name": "stdout",
     "output_type": "stream",
     "text": [
      "Count of wheel category\n",
      "                     ID\n",
      "Wheel                  \n",
      "Left wheel        17753\n",
      "Right-hand drive   1484\n"
     ]
    }
   ],
   "source": [
    "car_Wheel_price = train.groupby('Wheel').mean()[['Price']]\n",
    "car_Wheel_price = car_Wheel_price.sort_values(by=['Price'])\n",
    "\n",
    "plt.bar(x = car_Wheel_price.index, height = car_Wheel_price['Price'])\n",
    "plt.xlabel('Wheel')\n",
    "plt.ylabel('Price')\n",
    "plt.xticks(rotation = 90)\n",
    "plt.show()\n",
    "\n",
    "print('Count of wheel category')\n",
    "print(train.groupby('Wheel').count()[['ID']])"
   ]
  },
  {
   "cell_type": "code",
   "execution_count": 62,
   "metadata": {},
   "outputs": [
    {
     "data": {
      "text/plain": [
       "F_onewayResult(statistic=4.128455928822107, pvalue=0.042181524376528605)"
      ]
     },
     "execution_count": 62,
     "metadata": {},
     "output_type": "execute_result"
    }
   ],
   "source": [
    "from scipy.stats import f_oneway\n",
    " \n",
    "performance1 = train[train['Wheel'] == 'Right-hand drive']['Price']\n",
    "performance2 = train[train['Wheel'] == 'Left wheel']['Price']\n",
    "\n",
    " \n",
    "# Conduct the one-way ANOVA\n",
    "f_oneway(performance1, performance2)"
   ]
  },
  {
   "cell_type": "markdown",
   "metadata": {},
   "source": [
    "**Overview**\n",
    "- here we reject null hypothesis, where we derive that the two sample means are of same kind.\n",
    "- we derive that Wheel categories are indipendent with respect to price of the car\n",
    "- but anova alone cannotprove the difference between two groups, also following up with post-hoc tests"
   ]
  },
  {
   "cell_type": "code",
   "execution_count": 63,
   "metadata": {},
   "outputs": [],
   "source": [
    "def chi2_independence_testing(data, col1, col2, alpha):\n",
    "    D_table = pd.crosstab(data[col1], data[col2])\n",
    "    _, p_val, _, expected = stat.chi2_contingency(D_table)\n",
    "    if p_val < alpha:\n",
    "        print(f\"p-vlaue {p_val} so we can say that {col1} and {col2} are not independent at {alpha} significance level, i.e features are dependent\")\n",
    "    else:\n",
    "        print(f\"p-vlaue {p_val} so we can say that {col1} and {col2} are independent at {alpha} significance level, i.e features are not dependent\")\n",
    "    return p_val, expected"
   ]
  },
  {
   "cell_type": "code",
   "execution_count": 64,
   "metadata": {},
   "outputs": [
    {
     "name": "stdout",
     "output_type": "stream",
     "text": [
      "p-vlaue 0.08971501899211887 so we can say that Wheel and Doors are independent at 0.05 significance level, i.e features are not dependent\n"
     ]
    },
    {
     "data": {
      "text/plain": [
       "array([[7.17059885e+02, 1.69178144e+04, 1.18125695e+02],\n",
       "       [5.99401154e+01, 1.41418558e+03, 9.87430473e+00]])"
      ]
     },
     "execution_count": 64,
     "metadata": {},
     "output_type": "execute_result"
    }
   ],
   "source": [
    "p_val, table = chi2_independence_testing(train, 'Wheel', 'Doors',0.05)\n",
    "\n",
    "table"
   ]
  },
  {
   "cell_type": "markdown",
   "metadata": {},
   "source": [
    "**Overview**\n",
    "- here we failed to reject null hypothesis.\n",
    "- these two features are independent.\n",
    "- still cannot confidently tell they are independent since our p value is 0.02 greater than 0.05"
   ]
  },
  {
   "cell_type": "markdown",
   "metadata": {},
   "source": [
    "#### Airbag"
   ]
  },
  {
   "cell_type": "code",
   "execution_count": 65,
   "metadata": {},
   "outputs": [
    {
     "data": {
      "text/plain": [
       "array([12,  8,  2,  0,  4,  6, 10,  3,  1, 16,  5,  7,  9, 11, 14, 15, 13])"
      ]
     },
     "execution_count": 65,
     "metadata": {},
     "output_type": "execute_result"
    }
   ],
   "source": [
    "train['Airbags'].unique()"
   ]
  },
  {
   "cell_type": "code",
   "execution_count": 66,
   "metadata": {},
   "outputs": [
    {
     "data": {
      "image/png": "[encoded data removed]",
      "text/plain": [
       "<Figure size 432x288 with 1 Axes>"
      ]
     },
     "metadata": {
      "needs_background": "light"
     },
     "output_type": "display_data"
    },
    {
     "name": "stdout",
     "output_type": "stream",
     "text": [
      "           ID\n",
      "Airbags      \n",
      "0        2405\n",
      "1          76\n",
      "2        1066\n",
      "3          37\n",
      "4        5823\n",
      "5         104\n",
      "6        1311\n",
      "7          86\n",
      "8        1608\n",
      "9          63\n",
      "10        849\n",
      "11         33\n",
      "12       5654\n",
      "13          2\n",
      "14         20\n",
      "15          7\n",
      "16         93\n"
     ]
    }
   ],
   "source": [
    "car_Airbags_price = train.groupby('Airbags').mean()[['Price']]\n",
    "\n",
    "plt.bar(x = car_Airbags_price.index, height = car_Airbags_price['Price'])\n",
    "plt.xlabel('Airbags')\n",
    "plt.ylabel('Price')\n",
    "plt.xticks(rotation = 90)\n",
    "plt.show()\n",
    "\n",
    "print(train.groupby('Airbags').count()[['ID']])"
   ]
  },
  {
   "cell_type": "markdown",
   "metadata": {},
   "source": [
    "## Preprocessing"
   ]
  },
  {
   "cell_type": "markdown",
   "metadata": {},
   "source": [
    "**Overview**\n",
    "- according to the previous observation we can make a preprocessing pipeline\n",
    "- - Input -  Raw data  \n",
    "- - Output- Preprocessed data, encoder and standardization object which can be used on inference pipeline "
   ]
  },
  {
   "cell_type": "code",
   "execution_count": 67,
   "metadata": {},
   "outputs": [],
   "source": [
    "def drop_col(data, col_list):\n",
    "    if type(col_list) == list:\n",
    "        return data.drop(columns = col_list)\n",
    "    else:\n",
    "        return data.drop(columns = [col_list])"
   ]
  },
  {
   "cell_type": "code",
   "execution_count": 88,
   "metadata": {},
   "outputs": [],
   "source": [
    "def null_impute(i):\n",
    "    if i == '-':\n",
    "        return 0\n",
    "    else:\n",
    "        return int(i)\n",
    "    return data"
   ]
  },
  {
   "cell_type": "code",
   "execution_count": 69,
   "metadata": {},
   "outputs": [],
   "source": [
    "def get_numbers(data, col):\n",
    "    data[col].astype('int', inplace=True)\n",
    "    return data"
   ]
  },
  {
   "cell_type": "code",
   "execution_count": 70,
   "metadata": {},
   "outputs": [],
   "source": [
    "def Engine_volume(data, col):\n",
    "    t_list = [] # is turbo list\n",
    "    v_list = [] # integer volume list\n",
    "    for i in data[col]:\n",
    "        volume = i.split()\n",
    "        if len(volume) > 1:\n",
    "          t_list.append(1)\n",
    "        else:\n",
    "          t_list.append(0)\n",
    "        v_list.append(float(volume[0]))\n",
    "    data['Turbo'] = t_list\n",
    "    data[col] = v_list\n",
    "    return data"
   ]
  },
  {
   "cell_type": "code",
   "execution_count": 71,
   "metadata": {},
   "outputs": [],
   "source": [
    "def extract_mileage(x):\n",
    "    return int(x.split()[0])"
   ]
  },
  {
   "cell_type": "code",
   "execution_count": 72,
   "metadata": {},
   "outputs": [],
   "source": [
    "def get_quartiles(data, feature,q1,q3):\n",
    "    q3, q1 = np.percentile(data[feature], [q3 ,q1])\n",
    "    IQR = q3 - q1\n",
    "    upper_limit = q3+IQR*1.5\n",
    "    print('q1:',q1,'q3:',q3)\n",
    "    print(\"number of values under upper_quartile: \",len(data[data[feature]<upper_limit]))\n",
    "    num = len(data) - len(data[data[feature]<upper_limit])\n",
    "    print('If drop you loose %: ', (num/len(data))*100)\n",
    "    print('upper: ',upper_limit)\n",
    "    return (num/len(data))*100, upper_limit"
   ]
  },
  {
   "cell_type": "code",
   "execution_count": 73,
   "metadata": {},
   "outputs": [],
   "source": [
    "def get_lower(x):\n",
    "    return x.lower()"
   ]
  },
  {
   "cell_type": "code",
   "execution_count": 74,
   "metadata": {},
   "outputs": [],
   "source": [
    "def get_models(data, val):\n",
    "    car_models = data.groupby('Model').count()[['Price']]\n",
    "    cars = list(car_models[car_models['Price'] <= val].index)\n",
    "    return cars"
   ]
  },
  {
   "cell_type": "code",
   "execution_count": 75,
   "metadata": {},
   "outputs": [
    {
     "ename": "NameError",
     "evalue": "name 'data' is not defined",
     "output_type": "error",
     "traceback": [
      "\u001b[0;31m---------------------------------------------------------------------------\u001b[0m",
      "\u001b[0;31mNameError\u001b[0m                                 Traceback (most recent call last)",
      "\u001b[0;32m<ipython-input-75-84f09f571193>\u001b[0m in \u001b[0;36m<module>\u001b[0;34m\u001b[0m\n\u001b[0;32m----> 1\u001b[0;31m \u001b[0mtdata\u001b[0m \u001b[0;34m=\u001b[0m \u001b[0mdata\u001b[0m\u001b[0;34m.\u001b[0m\u001b[0mcopy\u001b[0m\u001b[0;34m(\u001b[0m\u001b[0;34m)\u001b[0m\u001b[0;34m\u001b[0m\u001b[0;34m\u001b[0m\u001b[0m\n\u001b[0m\u001b[1;32m      2\u001b[0m \u001b[0;34m\u001b[0m\u001b[0m\n\u001b[1;32m      3\u001b[0m \u001b[0mprint\u001b[0m\u001b[0;34m(\u001b[0m\u001b[0mtdata\u001b[0m\u001b[0;34m.\u001b[0m\u001b[0mshape\u001b[0m\u001b[0;34m)\u001b[0m\u001b[0;34m\u001b[0m\u001b[0;34m\u001b[0m\u001b[0m\n\u001b[1;32m      4\u001b[0m \u001b[0;34m\u001b[0m\u001b[0m\n\u001b[1;32m      5\u001b[0m \u001b[0mpercent\u001b[0m\u001b[0;34m,\u001b[0m \u001b[0mupper_limit\u001b[0m \u001b[0;34m=\u001b[0m \u001b[0mget_quartiles\u001b[0m\u001b[0;34m(\u001b[0m\u001b[0mtdata\u001b[0m\u001b[0;34m,\u001b[0m \u001b[0;34m'Mileage'\u001b[0m \u001b[0;34m,\u001b[0m\u001b[0;36m25\u001b[0m\u001b[0;34m,\u001b[0m\u001b[0;36m75\u001b[0m\u001b[0;34m)\u001b[0m\u001b[0;34m\u001b[0m\u001b[0;34m\u001b[0m\u001b[0m\n",
      "\u001b[0;31mNameError\u001b[0m: name 'data' is not defined"
     ]
    }
   ],
   "source": [
    "tdata = data.copy()\n",
    "\n",
    "print(tdata.shape)\n",
    "\n",
    "percent, upper_limit = get_quartiles(tdata, 'Mileage' ,25,75)\n",
    "\n",
    "# print(upper_limit)\n",
    "tdata = tdata[tdata['Mileage']<upper_limit]\n",
    "print(tdata.shape)"
   ]
  },
  {
   "cell_type": "code",
   "execution_count": 94,
   "metadata": {},
   "outputs": [],
   "source": [
    "import pickle\n",
    "def car_data_preprocessing(data):\n",
    "    # Dropping the id column\n",
    "    data = drop_col(data, 'ID')\n",
    "    \n",
    "#     # Data features filter\n",
    "#     data = data[only_important]\n",
    "    \n",
    "    # Impute Levy with mean value\n",
    "    data[\"Levy\"] = data[\"Levy\"].apply(null_impute)\n",
    "    \n",
    "    # Engine voume extraction with engine type seperator(is Turbo)\n",
    "    data = Engine_volume(data, 'Engine volume')\n",
    "    \n",
    "    # Extract Mileage\n",
    "    data['Mileage'] = data['Mileage'].apply(extract_mileage)\n",
    "    \n",
    "    # Get the required Mileage\n",
    "    percent, upper_limit = get_quartiles(data, 'Mileage' ,25,75)\n",
    "    if percent <= 4:\n",
    "        data = data[data['Mileage']<upper_limit]\n",
    "        \n",
    "    # remove price \n",
    "    data = data[data['Price']<np.percentile(data.Price,[95])[0]]\n",
    "    data = data[data['Price']>np.percentile(data.Price,[5])[0]]\n",
    "    data[\"Price\"] = np.log(data.Price)\n",
    "    \n",
    "    # Lower the model names \n",
    "    data['Model'] = data['Model'].apply(get_lower)\n",
    "    car_list = get_models(data, 1)\n",
    "    \n",
    "    '''## third improvement\n",
    "    data['Model'].replace(model_label)\n",
    "    ##'''\n",
    "    with open('model_list.pkl','wb') as file:\n",
    "        pickle.dump(car_list, file, protocol = pickle.HIGHEST_PROTOCOL)\n",
    "    \n",
    "    # second improvement on first Model to increase accuracy\n",
    "    models = []\n",
    "    for x in data['Model']:\n",
    "        if x in car_list:\n",
    "            models.append('others')\n",
    "        else:\n",
    "            models.append(x)\n",
    "\n",
    "    data['Model'] = models\n",
    "    ##\n",
    "    \n",
    "    ''' ## third improvement\n",
    "    data['Model'] = data['Model'].replace(model_label)\n",
    "    ##\n",
    "    \n",
    "    ## third improvement\n",
    "    data['Manufacturer'] = data['Manufacturer'].replace(manu_label)\n",
    "    ##'''\n",
    "    \n",
    "    # encode all categorical columns using label encoder\n",
    "    cat_columns = data.select_dtypes(include=[\"object\"]).columns\n",
    "    dict_encoder = {}\n",
    "    dict_unique_lab = {}\n",
    "    for i in cat_columns:\n",
    "        le = LabelEncoder()\n",
    "        dict_unique_lab[i] = data[i].unique()\n",
    "        dict_encoder[i] = le.fit(data[i]) \n",
    "        data[i] = dict_encoder[i].transform(data[i])\n",
    "    \n",
    "    # reset the index that was shuffled due to preprocessing\n",
    "    data.reset_index(inplace=True)\n",
    "    data = data.iloc[:,1:]\n",
    "    \n",
    "    # standard scalar the numerical data because having large jumps in numbers\n",
    "    # standardizinng the numbers helps models to understand features properly and get more accurate results\n",
    "    num_columns = ['Levy', 'Mileage', 'Cylinders','Airbags', 'Engine volume']\n",
    "    \n",
    "\n",
    "    scalers= {}\n",
    "    for col_name in num_columns:\n",
    "        scaler = StandardScaler()\n",
    "        scaler.fit(data[col_name].values.reshape(-1,1))\n",
    "        scalers[col_name] = scaler\n",
    "    \n",
    "    return data, dict_encoder, scalers"
   ]
  },
  {
   "cell_type": "code",
   "execution_count": 83,
   "metadata": {},
   "outputs": [
    {
     "data": {
      "text/html": [
       "<div>\n",
       "<style scoped>\n",
       "    .dataframe tbody tr th:only-of-type {\n",
       "        vertical-align: middle;\n",
       "    }\n",
       "\n",
       "    .dataframe tbody tr th {\n",
       "        vertical-align: top;\n",
       "    }\n",
       "\n",
       "    .dataframe thead th {\n",
       "        text-align: right;\n",
       "    }\n",
       "</style>\n",
       "<table border=\"1\" class=\"dataframe\">\n",
       "  <thead>\n",
       "    <tr style=\"text-align: right;\">\n",
       "      <th></th>\n",
       "      <th>ID</th>\n",
       "      <th>Price</th>\n",
       "      <th>Levy</th>\n",
       "      <th>Manufacturer</th>\n",
       "      <th>Model</th>\n",
       "      <th>Prod. year</th>\n",
       "      <th>Category</th>\n",
       "      <th>Leather interior</th>\n",
       "      <th>Fuel type</th>\n",
       "      <th>Engine volume</th>\n",
       "      <th>Mileage</th>\n",
       "      <th>Cylinders</th>\n",
       "      <th>Gear box type</th>\n",
       "      <th>Drive wheels</th>\n",
       "      <th>Doors</th>\n",
       "      <th>Wheel</th>\n",
       "      <th>Color</th>\n",
       "      <th>Airbags</th>\n",
       "    </tr>\n",
       "  </thead>\n",
       "  <tbody>\n",
       "    <tr>\n",
       "      <th>0</th>\n",
       "      <td>45654403</td>\n",
       "      <td>13328</td>\n",
       "      <td>1399</td>\n",
       "      <td>LEXUS</td>\n",
       "      <td>RX 450</td>\n",
       "      <td>2010</td>\n",
       "      <td>Jeep</td>\n",
       "      <td>Yes</td>\n",
       "      <td>Hybrid</td>\n",
       "      <td>3.5</td>\n",
       "      <td>186005 km</td>\n",
       "      <td>6.0</td>\n",
       "      <td>Automatic</td>\n",
       "      <td>4x4</td>\n",
       "      <td>04-May</td>\n",
       "      <td>Left wheel</td>\n",
       "      <td>Silver</td>\n",
       "      <td>12</td>\n",
       "    </tr>\n",
       "    <tr>\n",
       "      <th>1</th>\n",
       "      <td>44731507</td>\n",
       "      <td>16621</td>\n",
       "      <td>1018</td>\n",
       "      <td>CHEVROLET</td>\n",
       "      <td>Equinox</td>\n",
       "      <td>2011</td>\n",
       "      <td>Jeep</td>\n",
       "      <td>No</td>\n",
       "      <td>Petrol</td>\n",
       "      <td>3</td>\n",
       "      <td>192000 km</td>\n",
       "      <td>6.0</td>\n",
       "      <td>Tiptronic</td>\n",
       "      <td>4x4</td>\n",
       "      <td>04-May</td>\n",
       "      <td>Left wheel</td>\n",
       "      <td>Black</td>\n",
       "      <td>8</td>\n",
       "    </tr>\n",
       "    <tr>\n",
       "      <th>2</th>\n",
       "      <td>45774419</td>\n",
       "      <td>8467</td>\n",
       "      <td>-</td>\n",
       "      <td>HONDA</td>\n",
       "      <td>FIT</td>\n",
       "      <td>2006</td>\n",
       "      <td>Hatchback</td>\n",
       "      <td>No</td>\n",
       "      <td>Petrol</td>\n",
       "      <td>1.3</td>\n",
       "      <td>200000 km</td>\n",
       "      <td>4.0</td>\n",
       "      <td>Variator</td>\n",
       "      <td>Front</td>\n",
       "      <td>04-May</td>\n",
       "      <td>Right-hand drive</td>\n",
       "      <td>Black</td>\n",
       "      <td>2</td>\n",
       "    </tr>\n",
       "    <tr>\n",
       "      <th>3</th>\n",
       "      <td>45769185</td>\n",
       "      <td>3607</td>\n",
       "      <td>862</td>\n",
       "      <td>FORD</td>\n",
       "      <td>Escape</td>\n",
       "      <td>2011</td>\n",
       "      <td>Jeep</td>\n",
       "      <td>Yes</td>\n",
       "      <td>Hybrid</td>\n",
       "      <td>2.5</td>\n",
       "      <td>168966 km</td>\n",
       "      <td>4.0</td>\n",
       "      <td>Automatic</td>\n",
       "      <td>4x4</td>\n",
       "      <td>04-May</td>\n",
       "      <td>Left wheel</td>\n",
       "      <td>White</td>\n",
       "      <td>0</td>\n",
       "    </tr>\n",
       "    <tr>\n",
       "      <th>4</th>\n",
       "      <td>45809263</td>\n",
       "      <td>11726</td>\n",
       "      <td>446</td>\n",
       "      <td>HONDA</td>\n",
       "      <td>FIT</td>\n",
       "      <td>2014</td>\n",
       "      <td>Hatchback</td>\n",
       "      <td>Yes</td>\n",
       "      <td>Petrol</td>\n",
       "      <td>1.3</td>\n",
       "      <td>91901 km</td>\n",
       "      <td>4.0</td>\n",
       "      <td>Automatic</td>\n",
       "      <td>Front</td>\n",
       "      <td>04-May</td>\n",
       "      <td>Left wheel</td>\n",
       "      <td>Silver</td>\n",
       "      <td>4</td>\n",
       "    </tr>\n",
       "  </tbody>\n",
       "</table>\n",
       "</div>"
      ],
      "text/plain": [
       "         ID  Price  Levy Manufacturer    Model  Prod. year   Category  \\\n",
       "0  45654403  13328  1399        LEXUS   RX 450        2010       Jeep   \n",
       "1  44731507  16621  1018    CHEVROLET  Equinox        2011       Jeep   \n",
       "2  45774419   8467     -        HONDA      FIT        2006  Hatchback   \n",
       "3  45769185   3607   862         FORD   Escape        2011       Jeep   \n",
       "4  45809263  11726   446        HONDA      FIT        2014  Hatchback   \n",
       "\n",
       "  Leather interior Fuel type Engine volume    Mileage  Cylinders  \\\n",
       "0              Yes    Hybrid           3.5  186005 km        6.0   \n",
       "1               No    Petrol             3  192000 km        6.0   \n",
       "2               No    Petrol           1.3  200000 km        4.0   \n",
       "3              Yes    Hybrid           2.5  168966 km        4.0   \n",
       "4              Yes    Petrol           1.3   91901 km        4.0   \n",
       "\n",
       "  Gear box type Drive wheels   Doors             Wheel   Color  Airbags  \n",
       "0     Automatic          4x4  04-May        Left wheel  Silver       12  \n",
       "1     Tiptronic          4x4  04-May        Left wheel   Black        8  \n",
       "2      Variator        Front  04-May  Right-hand drive   Black        2  \n",
       "3     Automatic          4x4  04-May        Left wheel   White        0  \n",
       "4     Automatic        Front  04-May        Left wheel  Silver        4  "
      ]
     },
     "execution_count": 83,
     "metadata": {},
     "output_type": "execute_result"
    }
   ],
   "source": [
    "train.head()"
   ]
  },
  {
   "cell_type": "code",
   "execution_count": 95,
   "metadata": {},
   "outputs": [
    {
     "name": "stdout",
     "output_type": "stream",
     "text": [
      "q1: 70139.0 q3: 188888.0\n",
      "number of values under upper_quartile:  18597\n",
      "If drop you loose %:  3.326922077246972\n",
      "upper:  367011.5\n"
     ]
    }
   ],
   "source": [
    "data_train, encoder, scalar = car_data_preprocessing(train)"
   ]
  },
  {
   "cell_type": "code",
   "execution_count": 96,
   "metadata": {},
   "outputs": [
    {
     "data": {
      "text/html": [
       "<div>\n",
       "<style scoped>\n",
       "    .dataframe tbody tr th:only-of-type {\n",
       "        vertical-align: middle;\n",
       "    }\n",
       "\n",
       "    .dataframe tbody tr th {\n",
       "        vertical-align: top;\n",
       "    }\n",
       "\n",
       "    .dataframe thead th {\n",
       "        text-align: right;\n",
       "    }\n",
       "</style>\n",
       "<table border=\"1\" class=\"dataframe\">\n",
       "  <thead>\n",
       "    <tr style=\"text-align: right;\">\n",
       "      <th></th>\n",
       "      <th>Price</th>\n",
       "      <th>Levy</th>\n",
       "      <th>Manufacturer</th>\n",
       "      <th>Model</th>\n",
       "      <th>Prod. year</th>\n",
       "      <th>Category</th>\n",
       "      <th>Leather interior</th>\n",
       "      <th>Fuel type</th>\n",
       "      <th>Engine volume</th>\n",
       "      <th>Mileage</th>\n",
       "      <th>Cylinders</th>\n",
       "      <th>Gear box type</th>\n",
       "      <th>Drive wheels</th>\n",
       "      <th>Doors</th>\n",
       "      <th>Wheel</th>\n",
       "      <th>Color</th>\n",
       "      <th>Airbags</th>\n",
       "      <th>Turbo</th>\n",
       "    </tr>\n",
       "  </thead>\n",
       "  <tbody>\n",
       "    <tr>\n",
       "      <th>0</th>\n",
       "      <td>9.497622</td>\n",
       "      <td>1399</td>\n",
       "      <td>28</td>\n",
       "      <td>485</td>\n",
       "      <td>2010</td>\n",
       "      <td>4</td>\n",
       "      <td>1</td>\n",
       "      <td>2</td>\n",
       "      <td>3.5</td>\n",
       "      <td>186005</td>\n",
       "      <td>6.0</td>\n",
       "      <td>0</td>\n",
       "      <td>0</td>\n",
       "      <td>1</td>\n",
       "      <td>0</td>\n",
       "      <td>12</td>\n",
       "      <td>12</td>\n",
       "      <td>0</td>\n",
       "    </tr>\n",
       "    <tr>\n",
       "      <th>1</th>\n",
       "      <td>9.718422</td>\n",
       "      <td>1018</td>\n",
       "      <td>6</td>\n",
       "      <td>241</td>\n",
       "      <td>2011</td>\n",
       "      <td>4</td>\n",
       "      <td>0</td>\n",
       "      <td>5</td>\n",
       "      <td>3.0</td>\n",
       "      <td>192000</td>\n",
       "      <td>6.0</td>\n",
       "      <td>2</td>\n",
       "      <td>0</td>\n",
       "      <td>1</td>\n",
       "      <td>0</td>\n",
       "      <td>1</td>\n",
       "      <td>8</td>\n",
       "      <td>0</td>\n",
       "    </tr>\n",
       "    <tr>\n",
       "      <th>2</th>\n",
       "      <td>9.043932</td>\n",
       "      <td>0</td>\n",
       "      <td>18</td>\n",
       "      <td>259</td>\n",
       "      <td>2006</td>\n",
       "      <td>3</td>\n",
       "      <td>0</td>\n",
       "      <td>5</td>\n",
       "      <td>1.3</td>\n",
       "      <td>200000</td>\n",
       "      <td>4.0</td>\n",
       "      <td>3</td>\n",
       "      <td>1</td>\n",
       "      <td>1</td>\n",
       "      <td>1</td>\n",
       "      <td>1</td>\n",
       "      <td>2</td>\n",
       "      <td>0</td>\n",
       "    </tr>\n",
       "    <tr>\n",
       "      <th>3</th>\n",
       "      <td>8.190632</td>\n",
       "      <td>862</td>\n",
       "      <td>13</td>\n",
       "      <td>246</td>\n",
       "      <td>2011</td>\n",
       "      <td>4</td>\n",
       "      <td>1</td>\n",
       "      <td>2</td>\n",
       "      <td>2.5</td>\n",
       "      <td>168966</td>\n",
       "      <td>4.0</td>\n",
       "      <td>0</td>\n",
       "      <td>0</td>\n",
       "      <td>1</td>\n",
       "      <td>0</td>\n",
       "      <td>14</td>\n",
       "      <td>0</td>\n",
       "      <td>0</td>\n",
       "    </tr>\n",
       "    <tr>\n",
       "      <th>4</th>\n",
       "      <td>9.369564</td>\n",
       "      <td>446</td>\n",
       "      <td>18</td>\n",
       "      <td>259</td>\n",
       "      <td>2014</td>\n",
       "      <td>3</td>\n",
       "      <td>1</td>\n",
       "      <td>5</td>\n",
       "      <td>1.3</td>\n",
       "      <td>91901</td>\n",
       "      <td>4.0</td>\n",
       "      <td>0</td>\n",
       "      <td>1</td>\n",
       "      <td>1</td>\n",
       "      <td>0</td>\n",
       "      <td>12</td>\n",
       "      <td>4</td>\n",
       "      <td>0</td>\n",
       "    </tr>\n",
       "  </tbody>\n",
       "</table>\n",
       "</div>"
      ],
      "text/plain": [
       "      Price  Levy  Manufacturer  Model  Prod. year  Category  \\\n",
       "0  9.497622  1399            28    485        2010         4   \n",
       "1  9.718422  1018             6    241        2011         4   \n",
       "2  9.043932     0            18    259        2006         3   \n",
       "3  8.190632   862            13    246        2011         4   \n",
       "4  9.369564   446            18    259        2014         3   \n",
       "\n",
       "   Leather interior  Fuel type  Engine volume  Mileage  Cylinders  \\\n",
       "0                 1          2            3.5   186005        6.0   \n",
       "1                 0          5            3.0   192000        6.0   \n",
       "2                 0          5            1.3   200000        4.0   \n",
       "3                 1          2            2.5   168966        4.0   \n",
       "4                 1          5            1.3    91901        4.0   \n",
       "\n",
       "   Gear box type  Drive wheels  Doors  Wheel  Color  Airbags  Turbo  \n",
       "0              0             0      1      0     12       12      0  \n",
       "1              2             0      1      0      1        8      0  \n",
       "2              3             1      1      1      1        2      0  \n",
       "3              0             0      1      0     14        0      0  \n",
       "4              0             1      1      0     12        4      0  "
      ]
     },
     "execution_count": 96,
     "metadata": {},
     "output_type": "execute_result"
    }
   ],
   "source": [
    "data_train.head()"
   ]
  },
  {
   "cell_type": "code",
   "execution_count": 147,
   "metadata": {},
   "outputs": [],
   "source": [
    "import pickle\n",
    "\n",
    "with open('Encoder.pkl','wb') as file:\n",
    "    pickle.dump(encoder, file, protocol = pickle.HIGHEST_PROTOCOL)\n",
    "\n",
    "with open('Standard_scalars.pkl','wb') as file:\n",
    "    pickle.dump(scalar, file, protocol = pickle.HIGHEST_PROTOCOL)\n",
    "    \n",
    "# with open('model_label.pkl','wb') as file:\n",
    "#     pickle.dump(models_dict, file, protocol = pickle.HIGHEST_PROTOCOL)\n",
    "    \n",
    "# with open('manufacturer_label.pkl','wb') as file:\n",
    "#     pickle.dump(manufacturer_dict, file, protocol = pickle.HIGHEST_PROTOCOL)"
   ]
  },
  {
   "cell_type": "code",
   "execution_count": 706,
   "metadata": {},
   "outputs": [],
   "source": [
    "# create clusters"
   ]
  },
  {
   "cell_type": "code",
   "execution_count": 707,
   "metadata": {},
   "outputs": [
    {
     "data": {
      "text/plain": [
       "(16576, 18)"
      ]
     },
     "execution_count": 707,
     "metadata": {},
     "output_type": "execute_result"
    }
   ],
   "source": [
    "data_train.shape"
   ]
  },
  {
   "cell_type": "code",
   "execution_count": 97,
   "metadata": {},
   "outputs": [],
   "source": [
    "# split into train and test\n",
    "Xtrain, Xtest, ytrain, ytest = train_test_split(data_train.drop(columns = ['Price']).values,data_train['Price'].values, test_size=0.2)"
   ]
  },
  {
   "cell_type": "code",
   "execution_count": 101,
   "metadata": {},
   "outputs": [
    {
     "name": "stdout",
     "output_type": "stream",
     "text": [
      "TRAIN R2:  0.8862036200138008\n",
      "TEST R2:  0.6532282816614692\n"
     ]
    }
   ],
   "source": [
    "dt = DecisionTreeRegressor(max_depth=15)\n",
    "dt.fit(Xtrain, ytrain)\n",
    "\n",
    "ypred = dt.predict(Xtrain)\n",
    "\n",
    "# print(\"TRAIN R2: \",r2_score(ypred,ytrain))\n",
    "# print(\"TEST R2: \",r2_score(dt.predict(Xtest),ytest))\n",
    "\n",
    "print(\"TRAIN R2: \",r2_score(np.exp(ytrain), np.exp(ypred)))\n",
    "print(\"TEST R2: \",r2_score(np.exp(ytest), np.exp(dt.predict(Xtest))))"
   ]
  },
  {
   "cell_type": "code",
   "execution_count": 105,
   "metadata": {},
   "outputs": [
    {
     "name": "stdout",
     "output_type": "stream",
     "text": [
      "TRAIN R2:  0.9347535694038644\n",
      "TEST R2:  0.7645098767235503\n",
      "\n"
     ]
    }
   ],
   "source": [
    "obj = RandomForestRegressor(max_depth=50, n_estimators=500)\n",
    "obj.fit(Xtrain,ytrain)\n",
    "\n",
    "print(\"TRAIN R2: \",r2_score(np.exp(ytrain), np.exp(obj.predict(Xtrain))))\n",
    "print(\"TEST R2: \",r2_score(np.exp(ytest), np.exp(obj.predict(Xtest))))\n",
    "\n",
    "print()\n",
    "\n",
    "# print(\"TRAIN RMSE: \",mean_squared_error(np.exp(obj.predict(Xtrain)),ytrain,squared=False))\n",
    "# print(\"TEST RMSE: \",mean_squared_error(obj.predict(Xtest),ytest,squared=False))"
   ]
  },
  {
   "cell_type": "code",
   "execution_count": 104,
   "metadata": {},
   "outputs": [
    {
     "data": {
      "image/png": "[encoded data removed]",
      "text/plain": [
       "<Figure size 432x288 with 1 Axes>"
      ]
     },
     "metadata": {
      "needs_background": "light"
     },
     "output_type": "display_data"
    }
   ],
   "source": [
    "importances = obj.feature_importances_\n",
    "forest_importances = pd.Series(importances, index=data_train.drop(columns=['Price']).columns)\n",
    "\n",
    "fig, ax = plt.subplots()\n",
    "forest_importances.plot.bar(ax=ax)\n",
    "ax.set_title(\"Feature importances using MDI\")\n",
    "ax.set_ylabel('Increase in variance')\n",
    "fig.tight_layout()"
   ]
  },
  {
   "cell_type": "code",
   "execution_count": 792,
   "metadata": {},
   "outputs": [
    {
     "data": {
      "text/plain": [
       "0         9.497622\n",
       "1         9.718422\n",
       "2         9.043932\n",
       "3         8.190632\n",
       "4         9.369564\n",
       "           ...    \n",
       "16571     9.043932\n",
       "16572     9.660205\n",
       "16573    10.169997\n",
       "16574     8.581294\n",
       "16575     6.152733\n",
       "Name: Price, Length: 16576, dtype: float64"
      ]
     },
     "execution_count": 792,
     "metadata": {},
     "output_type": "execute_result"
    }
   ],
   "source": [
    "data_train['Price']"
   ]
  },
  {
   "cell_type": "code",
   "execution_count": 713,
   "metadata": {},
   "outputs": [
    {
     "name": "stdout",
     "output_type": "stream",
     "text": [
      "Features contributing more than 90% to the model\n",
      "Manufacturer        0.032203\n",
      "Model               0.043193\n",
      "Prod. year          0.125469\n",
      "Leather interior    0.048655\n",
      "Engine volume       0.048748\n",
      "Gear box type       0.136762\n",
      "Color               0.032821\n",
      "Levy                0.097510\n",
      "Mileage             0.113064\n",
      "Airbags             0.231370\n",
      "dtype: float64\n"
     ]
    },
    {
     "data": {
      "text/plain": [
       "0.9097950316340918"
      ]
     },
     "execution_count": 713,
     "metadata": {},
     "output_type": "execute_result"
    }
   ],
   "source": [
    "print('Features contributing more than 90% to the model')\n",
    "\n",
    "print(forest_importances[forest_importances>0.03])\n",
    "only_important_features = forest_importances[forest_importances>0.03].index\n",
    "forest_importances[forest_importances>0.03].sum()"
   ]
  },
  {
   "cell_type": "markdown",
   "metadata": {},
   "source": [
    "**Overview**\n",
    "- Investing only features contributing most i.e 90% for prediction results"
   ]
  },
  {
   "cell_type": "code",
   "execution_count": 717,
   "metadata": {},
   "outputs": [],
   "source": [
    "only_important_features = list(only_important_features)"
   ]
  },
  {
   "cell_type": "markdown",
   "metadata": {},
   "source": [
    "## Get best params using Optuna"
   ]
  },
  {
   "cell_type": "code",
   "execution_count": 73,
   "metadata": {},
   "outputs": [
    {
     "name": "stderr",
     "output_type": "stream",
     "text": [
      "\u001b[32m[I 2022-07-12 13:17:11,897]\u001b[0m A new study created in memory with name: no-name-c7a5c927-ee1a-449e-963c-0b8ac50d9f17\u001b[0m\n",
      "\u001b[32m[I 2022-07-12 13:17:32,719]\u001b[0m Trial 0 finished with value: 0.7581539560091903 and parameters: {'rf_max_depth': 47, 'estim': 173}. Best is trial 0 with value: 0.7581539560091903.\u001b[0m\n",
      "\u001b[32m[I 2022-07-12 13:18:19,173]\u001b[0m Trial 1 finished with value: 0.7587061661181197 and parameters: {'rf_max_depth': 21, 'estim': 373}. Best is trial 1 with value: 0.7587061661181197.\u001b[0m\n",
      "\u001b[32m[I 2022-07-12 13:18:28,427]\u001b[0m Trial 2 finished with value: 0.32225522387881295 and parameters: {'rf_max_depth': 2, 'estim': 456}. Best is trial 1 with value: 0.7587061661181197.\u001b[0m\n",
      "\u001b[32m[I 2022-07-12 13:19:16,036]\u001b[0m Trial 3 finished with value: 0.7532804181831869 and parameters: {'rf_max_depth': 16, 'estim': 472}. Best is trial 1 with value: 0.7587061661181197.\u001b[0m\n",
      "\u001b[32m[I 2022-07-12 13:19:20,235]\u001b[0m Trial 4 finished with value: 0.47075378631507003 and parameters: {'rf_max_depth': 4, 'estim': 132}. Best is trial 1 with value: 0.7587061661181197.\u001b[0m\n",
      "\u001b[32m[I 2022-07-12 13:19:54,870]\u001b[0m Trial 5 finished with value: 0.758675761079043 and parameters: {'rf_max_depth': 30, 'estim': 299}. Best is trial 1 with value: 0.7587061661181197.\u001b[0m\n",
      "\u001b[32m[I 2022-07-12 13:20:02,069]\u001b[0m Trial 6 finished with value: 0.6046935390638702 and parameters: {'rf_max_depth': 8, 'estim': 117}. Best is trial 1 with value: 0.7587061661181197.\u001b[0m\n",
      "\u001b[32m[I 2022-07-12 13:20:28,626]\u001b[0m Trial 7 finished with value: 0.6637896679599965 and parameters: {'rf_max_depth': 10, 'estim': 391}. Best is trial 1 with value: 0.7587061661181197.\u001b[0m\n",
      "\u001b[32m[I 2022-07-12 13:20:34,700]\u001b[0m Trial 8 finished with value: 0.32227909590049925 and parameters: {'rf_max_depth': 2, 'estim': 314}. Best is trial 1 with value: 0.7587061661181197.\u001b[0m\n",
      "\u001b[32m[I 2022-07-12 13:20:38,676]\u001b[0m Trial 9 finished with value: 0.40868278238814093 and parameters: {'rf_max_depth': 3, 'estim': 155}. Best is trial 1 with value: 0.7587061661181197.\u001b[0m\n"
     ]
    }
   ],
   "source": [
    "import sklearn\n",
    "from sklearn.model_selection import cross_val_score\n",
    "import optuna\n",
    "\n",
    "# 1. Define an objective function to be maximized.\n",
    "def objective(trial):\n",
    "\n",
    "    # 2. Suggest values for the hyperparameters using a trial object.\n",
    "    rf_max_depth = trial.suggest_int('rf_max_depth', 2, 50, log=True)\n",
    "    estim = trial.suggest_int('estim', 100, 500, log=True)\n",
    "\n",
    "    obj = RandomForestRegressor(max_depth=rf_max_depth, n_estimators=estim)\n",
    "    score = cross_val_score(obj, Xtrain, ytrain , n_jobs=-1, cv=4)\n",
    "    accuracy = score.mean()    \n",
    "    return accuracy\n",
    "\n",
    "\n",
    "# 3. Create a study object and optimize the objective function.\n",
    "study = optuna.create_study(direction='maximize')\n",
    "study.optimize(objective, n_trials=10)"
   ]
  },
  {
   "cell_type": "code",
   "execution_count": 739,
   "metadata": {},
   "outputs": [
    {
     "name": "stderr",
     "output_type": "stream",
     "text": [
      "\u001b[32m[I 2022-07-11 16:59:41,330]\u001b[0m A new study created in memory with name: no-name-0119a13e-0e6b-4014-b8c0-e3a2a8bb9ea7\u001b[0m\n",
      "\u001b[32m[I 2022-07-11 16:59:56,509]\u001b[0m Trial 0 finished with value: 0.7124587988598905 and parameters: {'rf_max_depth': 37, 'estim': 335}. Best is trial 0 with value: 0.7124587988598905.\u001b[0m\n",
      "\u001b[32m[I 2022-07-11 17:00:08,997]\u001b[0m Trial 1 finished with value: 0.7119573698870885 and parameters: {'rf_max_depth': 31, 'estim': 318}. Best is trial 0 with value: 0.7124587988598905.\u001b[0m\n",
      "\u001b[32m[I 2022-07-11 17:00:19,093]\u001b[0m Trial 2 finished with value: 0.7101080936139059 and parameters: {'rf_max_depth': 21, 'estim': 179}. Best is trial 0 with value: 0.7124587988598905.\u001b[0m\n",
      "\u001b[32m[I 2022-07-11 17:00:39,372]\u001b[0m Trial 3 finished with value: 0.7187112608718372 and parameters: {'rf_max_depth': 11, 'estim': 403}. Best is trial 3 with value: 0.7187112608718372.\u001b[0m\n",
      "\u001b[32m[I 2022-07-11 17:00:41,273]\u001b[0m Trial 4 finished with value: 0.5388713346047758 and parameters: {'rf_max_depth': 2, 'estim': 100}. Best is trial 3 with value: 0.7187112608718372.\u001b[0m\n",
      "\u001b[32m[I 2022-07-11 17:00:48,974]\u001b[0m Trial 5 finished with value: 0.7136969911059153 and parameters: {'rf_max_depth': 5, 'estim': 254}. Best is trial 3 with value: 0.7187112608718372.\u001b[0m\n",
      "\u001b[32m[I 2022-07-11 17:00:59,071]\u001b[0m Trial 6 finished with value: 0.7213165880626392 and parameters: {'rf_max_depth': 7, 'estim': 247}. Best is trial 6 with value: 0.7213165880626392.\u001b[0m\n",
      "\u001b[32m[I 2022-07-11 17:01:14,831]\u001b[0m Trial 7 finished with value: 0.7142729096940524 and parameters: {'rf_max_depth': 15, 'estim': 463}. Best is trial 6 with value: 0.7213165880626392.\u001b[0m\n",
      "\u001b[32m[I 2022-07-11 17:01:23,043]\u001b[0m Trial 8 finished with value: 0.7043699592108568 and parameters: {'rf_max_depth': 4, 'estim': 316}. Best is trial 6 with value: 0.7213165880626392.\u001b[0m\n",
      "\u001b[32m[I 2022-07-11 17:01:29,763]\u001b[0m Trial 9 finished with value: 0.6019718259254688 and parameters: {'rf_max_depth': 2, 'estim': 398}. Best is trial 6 with value: 0.7213165880626392.\u001b[0m\n"
     ]
    }
   ],
   "source": [
    "import sklearn\n",
    "from sklearn.model_selection import cross_val_score\n",
    "import optuna\n",
    "import xgboost as xgb\n",
    "\n",
    "# 1. Define an objective function to be maximized.\n",
    "def objective(trial):\n",
    "\n",
    "    # 2. Suggest values for the hyperparameters using a trial object.\n",
    "    rf_max_depth = trial.suggest_int('rf_max_depth', 2, 50, log=True)\n",
    "    estim = trial.suggest_int('estim', 100, 500, log=True)\n",
    "\n",
    "    obj = xgb.XGBRegressor(max_depth=rf_max_depth, n_estimators=estim)\n",
    "    score = cross_val_score(obj, Xtrain, ytrain , n_jobs=-1, cv=4)\n",
    "    accuracy = score.mean()    \n",
    "    return accuracy\n",
    "\n",
    "# 3. Create a study object and optimize the objective function.\n",
    "study = optuna.create_study(direction='maximize')\n",
    "study.optimize(objective, n_trials=10)"
   ]
  },
  {
   "cell_type": "markdown",
   "metadata": {},
   "source": [
    "## Model Stacking"
   ]
  },
  {
   "cell_type": "code",
   "execution_count": 138,
   "metadata": {},
   "outputs": [
    {
     "data": {
      "text/plain": [
       "0.7484481005269963"
      ]
     },
     "execution_count": 138,
     "metadata": {},
     "output_type": "execute_result"
    }
   ],
   "source": [
    "from sklearn.ensemble import StackingRegressor\n",
    "\n",
    "estimators = [\n",
    "  ('rf', RandomForestRegressor(max_depth=33, n_estimators=236)),\n",
    "  ('xgb', xgb.XGBRegressor(max_depth=7, n_estimators=247))\n",
    "]\n",
    "reg_stack = StackingRegressor(estimators=estimators)\n",
    "reg_stack.fit(Xtrain, ytrain).score(Xtest, ytest)"
   ]
  },
  {
   "cell_type": "code",
   "execution_count": null,
   "metadata": {},
   "outputs": [],
   "source": [
    "import sklearn\n",
    "from sklearn.model_selection import cross_val_score\n",
    "import optuna\n",
    "import xgboost as xgb\n",
    "import mlflow\n",
    "\n",
    "estimators = [\n",
    "  ('rf', RandomForestRegressor(max_depth=33, n_estimators=236)),\n",
    "  ('xgb', xgb.XGBRegressor(max_depth=7, n_estimators=247))\n",
    "]\n",
    "\n",
    "# 1. Define an objective function to be maximized.\n",
    "def objective(trial):\n",
    "\n",
    "    # 2. Suggest values for the hyperparameters using a trial object.\n",
    "    rf_max_depth = trial.suggest_int('rf_max_depth', 2, 50, log=True)\n",
    "    estim = trial.suggest_int('estim', 100, 500, log=True)\n",
    "    \n",
    "    xgb_max_depth = trial.suggest_int('rf_max_depth', 2, 10, log=True)\n",
    "    xgb_estim = trial.suggest_int('estim', 100, 500, log=True)\n",
    "    \n",
    "    estimators = [('rf', RandomForestRegressor(max_depth=rf_max_depth, n_estimators=estim)),\n",
    "                  ('xgb', xgb.XGBRegressor(max_depth=xgb_max_depth, n_estimators=xgb_estim))]\n",
    "\n",
    "    reg_stack = StackingRegressor(estimators=estimators)\n",
    "\n",
    "    score = cross_val_score(reg_stack, Xtrain, ytrain , n_jobs=-1, cv=4)\n",
    "    accuracy = score.mean()    \n",
    "    return accuracy\n",
    "\n",
    "\n",
    "\n",
    "\n",
    "# 3. Create a study object and optimize the objective function.\n",
    "study = optuna.create_study(direction='maximize')\n",
    "study.optimize(objective, n_trials=10)\n",
    "\n",
    "# create a dictionary with best parameters and accuracy\n",
    "dict1 = study.best_params\n",
    "dict1['CV Accuracy'] = study.best_trial.value\n",
    "dict1\n",
    "\n",
    "# sore the best max depth and estimators\n",
    "rf_max_depth = dict1['rf_max_depth']\n",
    "estim = dict1['estim']\n",
    "\n",
    "reg_stack = StackingRegressor(estimators=estimators)\n",
    "signature = infer_signature(Xtrain, reg_stack.predict(Xtrain))\n",
    "\n",
    "mlflow.log_param('params_accuracy', dict1)\n",
    "mlflow.sklearn.log_model(reg_stack, \"car_rf\", signature=signature)"
   ]
  },
  {
   "cell_type": "code",
   "execution_count": 140,
   "metadata": {},
   "outputs": [
    {
     "name": "stdout",
     "output_type": "stream",
     "text": [
      "0.6825711152028755\n"
     ]
    }
   ],
   "source": [
    "pred = reg_stack.predict(Xtest)\n",
    "print(r2_score(np.exp(pred), np.exp(ytest)))\n",
    "# mlflow.log_param('params_accuracy', dict1)\n",
    "# mlflow.sklearn.log_model(obj, \"car_rf\", signature=signature)"
   ]
  },
  {
   "cell_type": "markdown",
   "metadata": {},
   "source": [
    "#### Bagging Model"
   ]
  },
  {
   "cell_type": "code",
   "execution_count": 107,
   "metadata": {},
   "outputs": [
    {
     "data": {
      "text/plain": [
       "0.6731907147728142"
      ]
     },
     "execution_count": 107,
     "metadata": {},
     "output_type": "execute_result"
    }
   ],
   "source": [
    "import xgboost as xgb\n",
    "\n",
    "xgb = xgb.XGBRegressor(max_depth=7, n_estimators=247)\n",
    "xgb.fit(Xtrain, ytrain)\n",
    "r2_score(np.exp(ytest), np.exp(xgb.predict(Xtest)))"
   ]
  },
  {
   "cell_type": "code",
   "execution_count": 106,
   "metadata": {},
   "outputs": [
    {
     "data": {
      "text/plain": [
       "0.7640064440780661"
      ]
     },
     "execution_count": 106,
     "metadata": {},
     "output_type": "execute_result"
    }
   ],
   "source": [
    "rfb = RandomForestRegressor(max_depth=33, n_estimators=236)\n",
    "rfb.fit(Xtrain, ytrain)\n",
    "r2_score(np.exp(ytest), np.exp(rfb.predict(Xtest)))"
   ]
  },
  {
   "cell_type": "markdown",
   "metadata": {},
   "source": [
    "#### Root Mean Sqared Error"
   ]
  },
  {
   "cell_type": "code",
   "execution_count": 803,
   "metadata": {},
   "outputs": [
    {
     "data": {
      "text/plain": [
       "5976.634182876646"
      ]
     },
     "execution_count": 803,
     "metadata": {},
     "output_type": "execute_result"
    }
   ],
   "source": [
    "from sklearn.metrics import mean_squared_error\n",
    "from math import sqrt\n",
    "\n",
    "sqrt(mean_squared_error(np.exp(ytest), np.exp(rfb.predict(Xtest))))"
   ]
  },
  {
   "cell_type": "code",
   "execution_count": null,
   "metadata": {},
   "outputs": [],
   "source": [
    "import shap\n",
    "explainer = shap.TreeExplainer(rfb)\n",
    "shap_values = explainer.shap_values(Xtest)\n",
    "\n",
    "shap.summary_plot(shap_values, Xtest)"
   ]
  },
  {
   "cell_type": "markdown",
   "metadata": {},
   "source": [
    "#### Storing the best model"
   ]
  },
  {
   "cell_type": "code",
   "execution_count": 806,
   "metadata": {},
   "outputs": [],
   "source": [
    "with open('best_model.pkl','wb') as file:\n",
    "    pickle.dump(reg_stack, file, protocol = pickle.HIGHEST_PROTOCOL)"
   ]
  },
  {
   "cell_type": "markdown",
   "metadata": {},
   "source": [
    "## Inference Pipeline"
   ]
  },
  {
   "cell_type": "code",
   "execution_count": 126,
   "metadata": {},
   "outputs": [],
   "source": [
    "def car_data_inference(data,sc, dict_encoder, car_list):\n",
    "    # Dropping the id column\n",
    "    data = drop_col(data, 'ID')\n",
    "    data = drop_col(data, 'Price')\n",
    "#     # Data features filter\n",
    "#     data = data[only_important]\n",
    "    \n",
    "    # Impute Levy with mean value\n",
    "    data = null_impute_mean(data, 'Levy')\n",
    "    \n",
    "    # Engine voume extraction with engine type seperator(is Turbo)\n",
    "    data = Engine_volume(data, 'Engine volume')\n",
    "    \n",
    "    # Extract Mileage\n",
    "    data['Mileage'] = data['Mileage'].apply(extract_mileage)\n",
    "    \n",
    "    # Get the required Mileage\n",
    "    percent, upper_limit = get_quartiles(data, 'Mileage' ,25,75)\n",
    "    if percent <= 4:\n",
    "        data = data[data['Mileage']<upper_limit]\n",
    "        \n",
    "    # remove price \n",
    "#     data = data[data['Price']<np.percentile(data.Price,[95])[0]]\n",
    "#     data = data[data['Price']>np.percentile(data.Price,[5])[0]]\n",
    "#     data[\"Price\"] = np.log(data.Price)\n",
    "    \n",
    "    # Lower the model names \n",
    "#     data['Model'] = data['Model'].apply(get_lower)\n",
    "#     car_list = get_models(data, 1)\n",
    "    \n",
    "    \n",
    "    ## second improvement on first Model to increase accuracy\n",
    "    models = []\n",
    "    for x in data['Model']:\n",
    "        if x in car_list:\n",
    "            models.append('others')\n",
    "        else:\n",
    "            models.append(x)\n",
    "\n",
    "    data['Model'] = models\n",
    "    ##\n",
    "    \n",
    "    ''' ## third improvement\n",
    "    data['Model'] = data['Model'].replace(model_label)\n",
    "    ##\n",
    "    \n",
    "    ## third improvement\n",
    "    data['Manufacturer'] = data['Manufacturer'].replace(manu_label)\n",
    "    ##'''\n",
    "    \n",
    "    # encode all categorical columns using label encoder\n",
    "    cat_columns = data.select_dtypes(include=[\"object\"]).columns\n",
    "    for i in cat_columns:\n",
    "        if '<unknown>' not in dict_encoder[i].classes_ :\n",
    "            data[i] = data[i].map(lambda s: '<unknown>' if s not in dict_encoder[i].classes_ else s)\n",
    "            dict_encoder[i].classes_ = np.append(dict_encoder[i].classes_, '<unknown>')\n",
    "        else:\n",
    "            data[i] = data[i].map(lambda s: '<unknown>' if s not in dict_encoder[i].classes_ \n",
    "    for i in cat_columns:\n",
    "        data[i] = dict_encoder[i].transform(data[i])\n",
    "    \n",
    "    # reset the index that was shuffled due to preprocessing\n",
    "    data.reset_index(inplace=True)\n",
    "    data = data.iloc[:,1:]\n",
    "    \n",
    "    # standard scalar the numerical data because having large jumps in numbers\n",
    "    # standardizinng the numbers helps models to understand features properly and get more accurate results\n",
    "    num_columns = ['Levy', 'Mileage', 'Cylinders','Airbags', 'Engine volume']\n",
    "\n",
    "    scalars = sc.transform(data[num_columns].values)\n",
    "    data_scalar = pd.DataFrame(scalars , \n",
    "                               columns= num_columns)\n",
    "    \n",
    "    # drop the actual columns are impute with standardized columns \n",
    "    data.drop(columns = num_columns, inplace=True)\n",
    "    data = data.join(data_scalar)\n",
    "    \n",
    "    return data"
   ]
  },
  {
   "cell_type": "code",
   "execution_count": 153,
   "metadata": {},
   "outputs": [],
   "source": [
    "import pickle\n",
    "with open('Standard_scalars.pkl', 'rb') as handle:\n",
    "    standard_scalar = pickle. load(handle)\n",
    "\n",
    "with open('Encoder.pkl', 'rb') as handle:\n",
    "    dict_encoder = pickle. load(handle)\n",
    "    \n",
    "with open('model_list.pkl', 'rb') as handle:\n",
    "    car_list = pickle. load(handle)\n",
    "    \n",
    "with open('best_model.pkl', 'rb') as handle:\n",
    "    model = pickle. load(handle)\n",
    "# with open('manufacturer_label.pkl', 'rb') as handle:\n",
    "#     manufacturer_label = pickle. load(handle)"
   ]
  },
  {
   "cell_type": "code",
   "execution_count": 150,
   "metadata": {},
   "outputs": [
    {
     "name": "stdout",
     "output_type": "stream",
     "text": [
      "q1: 60923.75 q3: 169500.0\n",
      "number of values under upper_quartile:  10\n",
      "If drop you loose %:  0.0\n",
      "upper:  332364.375\n"
     ]
    },
    {
     "data": {
      "text/html": [
       "<div>\n",
       "<style scoped>\n",
       "    .dataframe tbody tr th:only-of-type {\n",
       "        vertical-align: middle;\n",
       "    }\n",
       "\n",
       "    .dataframe tbody tr th {\n",
       "        vertical-align: top;\n",
       "    }\n",
       "\n",
       "    .dataframe thead th {\n",
       "        text-align: right;\n",
       "    }\n",
       "</style>\n",
       "<table border=\"1\" class=\"dataframe\">\n",
       "  <thead>\n",
       "    <tr style=\"text-align: right;\">\n",
       "      <th></th>\n",
       "      <th>Manufacturer</th>\n",
       "      <th>Model</th>\n",
       "      <th>Prod. year</th>\n",
       "      <th>Category</th>\n",
       "      <th>Leather interior</th>\n",
       "      <th>Fuel type</th>\n",
       "      <th>Gear box type</th>\n",
       "      <th>Drive wheels</th>\n",
       "      <th>Doors</th>\n",
       "      <th>Wheel</th>\n",
       "      <th>Color</th>\n",
       "      <th>Turbo</th>\n",
       "      <th>Levy</th>\n",
       "      <th>Mileage</th>\n",
       "      <th>Cylinders</th>\n",
       "      <th>Airbags</th>\n",
       "      <th>Engine volume</th>\n",
       "    </tr>\n",
       "  </thead>\n",
       "  <tbody>\n",
       "    <tr>\n",
       "      <th>0</th>\n",
       "      <td>55</td>\n",
       "      <td>604</td>\n",
       "      <td>2012</td>\n",
       "      <td>3</td>\n",
       "      <td>0</td>\n",
       "      <td>1</td>\n",
       "      <td>1</td>\n",
       "      <td>1</td>\n",
       "      <td>0</td>\n",
       "      <td>0</td>\n",
       "      <td>7</td>\n",
       "      <td>1</td>\n",
       "      <td>0.259717</td>\n",
       "      <td>-1.629872</td>\n",
       "      <td>-0.464720</td>\n",
       "      <td>0.806377</td>\n",
       "      <td>-0.317142</td>\n",
       "    </tr>\n",
       "    <tr>\n",
       "      <th>1</th>\n",
       "      <td>20</td>\n",
       "      <td>604</td>\n",
       "      <td>2012</td>\n",
       "      <td>9</td>\n",
       "      <td>1</td>\n",
       "      <td>5</td>\n",
       "      <td>2</td>\n",
       "      <td>1</td>\n",
       "      <td>1</td>\n",
       "      <td>0</td>\n",
       "      <td>7</td>\n",
       "      <td>0</td>\n",
       "      <td>0.259717</td>\n",
       "      <td>-1.306953</td>\n",
       "      <td>-0.464720</td>\n",
       "      <td>0.806377</td>\n",
       "      <td>0.158212</td>\n",
       "    </tr>\n",
       "    <tr>\n",
       "      <th>2</th>\n",
       "      <td>37</td>\n",
       "      <td>604</td>\n",
       "      <td>2005</td>\n",
       "      <td>9</td>\n",
       "      <td>0</td>\n",
       "      <td>5</td>\n",
       "      <td>0</td>\n",
       "      <td>1</td>\n",
       "      <td>1</td>\n",
       "      <td>1</td>\n",
       "      <td>13</td>\n",
       "      <td>0</td>\n",
       "      <td>0.259717</td>\n",
       "      <td>0.456685</td>\n",
       "      <td>-0.464720</td>\n",
       "      <td>0.336362</td>\n",
       "      <td>-0.911335</td>\n",
       "    </tr>\n",
       "    <tr>\n",
       "      <th>3</th>\n",
       "      <td>56</td>\n",
       "      <td>604</td>\n",
       "      <td>2012</td>\n",
       "      <td>4</td>\n",
       "      <td>1</td>\n",
       "      <td>5</td>\n",
       "      <td>0</td>\n",
       "      <td>0</td>\n",
       "      <td>1</td>\n",
       "      <td>0</td>\n",
       "      <td>2</td>\n",
       "      <td>0</td>\n",
       "      <td>0.210258</td>\n",
       "      <td>0.146186</td>\n",
       "      <td>1.284416</td>\n",
       "      <td>1.276391</td>\n",
       "      <td>1.108921</td>\n",
       "    </tr>\n",
       "    <tr>\n",
       "      <th>4</th>\n",
       "      <td>38</td>\n",
       "      <td>604</td>\n",
       "      <td>1993</td>\n",
       "      <td>3</td>\n",
       "      <td>0</td>\n",
       "      <td>5</td>\n",
       "      <td>1</td>\n",
       "      <td>1</td>\n",
       "      <td>1</td>\n",
       "      <td>0</td>\n",
       "      <td>1</td>\n",
       "      <td>0</td>\n",
       "      <td>0.259717</td>\n",
       "      <td>0.854125</td>\n",
       "      <td>-0.464720</td>\n",
       "      <td>-1.543694</td>\n",
       "      <td>-0.792496</td>\n",
       "    </tr>\n",
       "    <tr>\n",
       "      <th>5</th>\n",
       "      <td>3</td>\n",
       "      <td>26</td>\n",
       "      <td>2014</td>\n",
       "      <td>9</td>\n",
       "      <td>1</td>\n",
       "      <td>5</td>\n",
       "      <td>2</td>\n",
       "      <td>2</td>\n",
       "      <td>1</td>\n",
       "      <td>0</td>\n",
       "      <td>1</td>\n",
       "      <td>1</td>\n",
       "      <td>-0.664381</td>\n",
       "      <td>-0.887989</td>\n",
       "      <td>-0.464720</td>\n",
       "      <td>1.276391</td>\n",
       "      <td>-0.317142</td>\n",
       "    </tr>\n",
       "    <tr>\n",
       "      <th>6</th>\n",
       "      <td>28</td>\n",
       "      <td>604</td>\n",
       "      <td>2015</td>\n",
       "      <td>4</td>\n",
       "      <td>1</td>\n",
       "      <td>5</td>\n",
       "      <td>0</td>\n",
       "      <td>0</td>\n",
       "      <td>1</td>\n",
       "      <td>0</td>\n",
       "      <td>1</td>\n",
       "      <td>0</td>\n",
       "      <td>1.956932</td>\n",
       "      <td>-0.351769</td>\n",
       "      <td>3.033552</td>\n",
       "      <td>-1.543694</td>\n",
       "      <td>2.772662</td>\n",
       "    </tr>\n",
       "    <tr>\n",
       "      <th>7</th>\n",
       "      <td>32</td>\n",
       "      <td>604</td>\n",
       "      <td>2011</td>\n",
       "      <td>9</td>\n",
       "      <td>1</td>\n",
       "      <td>1</td>\n",
       "      <td>0</td>\n",
       "      <td>0</td>\n",
       "      <td>1</td>\n",
       "      <td>0</td>\n",
       "      <td>2</td>\n",
       "      <td>0</td>\n",
       "      <td>0.723067</td>\n",
       "      <td>-0.828833</td>\n",
       "      <td>1.284416</td>\n",
       "      <td>1.276391</td>\n",
       "      <td>1.465437</td>\n",
       "    </tr>\n",
       "    <tr>\n",
       "      <th>8</th>\n",
       "      <td>20</td>\n",
       "      <td>604</td>\n",
       "      <td>2016</td>\n",
       "      <td>9</td>\n",
       "      <td>1</td>\n",
       "      <td>4</td>\n",
       "      <td>0</td>\n",
       "      <td>1</td>\n",
       "      <td>1</td>\n",
       "      <td>0</td>\n",
       "      <td>12</td>\n",
       "      <td>0</td>\n",
       "      <td>-0.008402</td>\n",
       "      <td>2.099029</td>\n",
       "      <td>-0.464720</td>\n",
       "      <td>-0.603666</td>\n",
       "      <td>-0.317142</td>\n",
       "    </tr>\n",
       "    <tr>\n",
       "      <th>9</th>\n",
       "      <td>9</td>\n",
       "      <td>604</td>\n",
       "      <td>2011</td>\n",
       "      <td>9</td>\n",
       "      <td>1</td>\n",
       "      <td>5</td>\n",
       "      <td>0</td>\n",
       "      <td>1</td>\n",
       "      <td>1</td>\n",
       "      <td>0</td>\n",
       "      <td>14</td>\n",
       "      <td>0</td>\n",
       "      <td>-0.648762</td>\n",
       "      <td>0.481525</td>\n",
       "      <td>-0.464720</td>\n",
       "      <td>-0.603666</td>\n",
       "      <td>-0.554819</td>\n",
       "    </tr>\n",
       "  </tbody>\n",
       "</table>\n",
       "</div>"
      ],
      "text/plain": [
       "   Manufacturer  Model  Prod. year  Category  Leather interior  Fuel type  \\\n",
       "0            55    604        2012         3                 0          1   \n",
       "1            20    604        2012         9                 1          5   \n",
       "2            37    604        2005         9                 0          5   \n",
       "3            56    604        2012         4                 1          5   \n",
       "4            38    604        1993         3                 0          5   \n",
       "5             3     26        2014         9                 1          5   \n",
       "6            28    604        2015         4                 1          5   \n",
       "7            32    604        2011         9                 1          1   \n",
       "8            20    604        2016         9                 1          4   \n",
       "9             9    604        2011         9                 1          5   \n",
       "\n",
       "   Gear box type  Drive wheels  Doors  Wheel  Color  Turbo      Levy  \\\n",
       "0              1             1      0      0      7      1  0.259717   \n",
       "1              2             1      1      0      7      0  0.259717   \n",
       "2              0             1      1      1     13      0  0.259717   \n",
       "3              0             0      1      0      2      0  0.210258   \n",
       "4              1             1      1      0      1      0  0.259717   \n",
       "5              2             2      1      0      1      1 -0.664381   \n",
       "6              0             0      1      0      1      0  1.956932   \n",
       "7              0             0      1      0      2      0  0.723067   \n",
       "8              0             1      1      0     12      0 -0.008402   \n",
       "9              0             1      1      0     14      0 -0.648762   \n",
       "\n",
       "    Mileage  Cylinders   Airbags  Engine volume  \n",
       "0 -1.629872  -0.464720  0.806377      -0.317142  \n",
       "1 -1.306953  -0.464720  0.806377       0.158212  \n",
       "2  0.456685  -0.464720  0.336362      -0.911335  \n",
       "3  0.146186   1.284416  1.276391       1.108921  \n",
       "4  0.854125  -0.464720 -1.543694      -0.792496  \n",
       "5 -0.887989  -0.464720  1.276391      -0.317142  \n",
       "6 -0.351769   3.033552 -1.543694       2.772662  \n",
       "7 -0.828833   1.284416  1.276391       1.465437  \n",
       "8  2.099029  -0.464720 -0.603666      -0.317142  \n",
       "9  0.481525  -0.464720 -0.603666      -0.554819  "
      ]
     },
     "execution_count": 150,
     "metadata": {},
     "output_type": "execute_result"
    }
   ],
   "source": [
    "car_data_inference(test.iloc[:10], standard_scalar, dict_encoder, car_list)"
   ]
  },
  {
   "cell_type": "markdown",
   "metadata": {},
   "source": [
    "## Model Runs Screen shot <a class='anchor' id='Screen-Shots'></a>"
   ]
  },
  {
   "attachments": {
    "1e5c2c53-9f72-4eea-9bef-e961b994e948.png": {
     "image/png": "[encoded data removed]"
    },
    "50c84e18-29bf-4411-9585-16809cae63eb.png": {
     "image/png": "[encoded data removed]"
    },
    "5734e8be-9c9b-460b-b6a1-c2be92240454.png": {
     "image/png": "[encoded data removed]"
    }
   },
   "cell_type": "markdown",
   "metadata": {},
   "source": [
    "- First Run without modification in preprocess pipeline\n",
    "\n",
    "![Screenshot from 2022-07-10 23-48-02.png](attachment:1e5c2c53-9f72-4eea-9bef-e961b994e948.png)\n",
    "\n",
    "- Second run after second improvemnt\n",
    "\n",
    "![image.png](attachment:50c84e18-29bf-4411-9585-16809cae63eb.png)\n",
    "\n",
    "- Third Improvement\n",
    "\n",
    "![image.png](attachment:5734e8be-9c9b-460b-b6a1-c2be92240454.png)"
   ]
  },
  {
   "cell_type": "code",
   "execution_count": 164,
   "metadata": {},
   "outputs": [
    {
     "ename": "NameError",
     "evalue": "name 'np' is not defined",
     "output_type": "error",
     "traceback": [
      "\u001b[0;31m---------------------------------------------------------------------------\u001b[0m",
      "\u001b[0;31mNameError\u001b[0m                                 Traceback (most recent call last)",
      "\u001b[0;32m<ipython-input-164-e881f78b7984>\u001b[0m in \u001b[0;36m<module>\u001b[0;34m\u001b[0m\n\u001b[1;32m     16\u001b[0m     \u001b[0mmodel\u001b[0m \u001b[0;34m=\u001b[0m \u001b[0mpickle\u001b[0m\u001b[0;34m.\u001b[0m\u001b[0mload\u001b[0m\u001b[0;34m(\u001b[0m\u001b[0mhandle\u001b[0m\u001b[0;34m)\u001b[0m\u001b[0;34m\u001b[0m\u001b[0;34m\u001b[0m\u001b[0m\n\u001b[1;32m     17\u001b[0m \u001b[0;34m\u001b[0m\u001b[0m\n\u001b[0;32m---> 18\u001b[0;31m \u001b[0mtest\u001b[0m \u001b[0;34m=\u001b[0m \u001b[0minference\u001b[0m\u001b[0;34m.\u001b[0m\u001b[0mcar_data_inference\u001b[0m\u001b[0;34m(\u001b[0m\u001b[0mtest\u001b[0m\u001b[0;34m,\u001b[0m\u001b[0mstandard_scalar\u001b[0m\u001b[0;34m,\u001b[0m \u001b[0mdict_encoder\u001b[0m\u001b[0;34m,\u001b[0m \u001b[0mcar_list\u001b[0m\u001b[0;34m)\u001b[0m\u001b[0;34m\u001b[0m\u001b[0;34m\u001b[0m\u001b[0m\n\u001b[0m\u001b[1;32m     19\u001b[0m \u001b[0;34m\u001b[0m\u001b[0m\n\u001b[1;32m     20\u001b[0m \u001b[0mmodel\u001b[0m\u001b[0;34m.\u001b[0m\u001b[0mpredict\u001b[0m\u001b[0;34m(\u001b[0m\u001b[0mtest\u001b[0m\u001b[0;34m)\u001b[0m\u001b[0;34m\u001b[0m\u001b[0;34m\u001b[0m\u001b[0m\n",
      "\u001b[0;32m~/car price prediction Project/Inference.py\u001b[0m in \u001b[0;36mcar_data_inference\u001b[0;34m(self, data, sc, dict_encoder, car_list)\u001b[0m\n\u001b[1;32m     64\u001b[0m         \u001b[0;34m'''data = data[only_important]'''\u001b[0m\u001b[0;34m\u001b[0m\u001b[0;34m\u001b[0m\u001b[0m\n\u001b[1;32m     65\u001b[0m \u001b[0;34m\u001b[0m\u001b[0m\n\u001b[0;32m---> 66\u001b[0;31m \u001b[0;34m\u001b[0m\u001b[0m\n\u001b[0m\u001b[1;32m     67\u001b[0m         \u001b[0;31m# Impute Levy with mean value\u001b[0m\u001b[0;34m\u001b[0m\u001b[0;34m\u001b[0m\u001b[0;34m\u001b[0m\u001b[0m\n\u001b[1;32m     68\u001b[0m         \u001b[0mdata\u001b[0m \u001b[0;34m=\u001b[0m \u001b[0mself\u001b[0m\u001b[0;34m.\u001b[0m\u001b[0mnull_impute_mean\u001b[0m\u001b[0;34m(\u001b[0m\u001b[0mdata\u001b[0m\u001b[0;34m,\u001b[0m \u001b[0;34m'Levy'\u001b[0m\u001b[0;34m)\u001b[0m\u001b[0;34m\u001b[0m\u001b[0;34m\u001b[0m\u001b[0m\n",
      "\u001b[0;32m~/car price prediction Project/Inference.py\u001b[0m in \u001b[0;36mnull_impute_mean\u001b[0;34m(self, data, col)\u001b[0m\n\u001b[1;32m     23\u001b[0m             \u001b[0;32mfor\u001b[0m \u001b[0mi\u001b[0m \u001b[0;32min\u001b[0m \u001b[0mdata\u001b[0m\u001b[0;34m[\u001b[0m\u001b[0mcol\u001b[0m\u001b[0;34m]\u001b[0m\u001b[0;34m:\u001b[0m\u001b[0;34m\u001b[0m\u001b[0;34m\u001b[0m\u001b[0m\n\u001b[1;32m     24\u001b[0m                 \u001b[0;32mif\u001b[0m \u001b[0mi\u001b[0m \u001b[0;34m==\u001b[0m \u001b[0;34m'-'\u001b[0m\u001b[0;34m:\u001b[0m\u001b[0;34m\u001b[0m\u001b[0;34m\u001b[0m\u001b[0m\n\u001b[0;32m---> 25\u001b[0;31m                     \u001b[0mlevy_list\u001b[0m\u001b[0;34m.\u001b[0m\u001b[0mappend\u001b[0m\u001b[0;34m(\u001b[0m\u001b[0mnp\u001b[0m\u001b[0;34m.\u001b[0m\u001b[0mnan\u001b[0m\u001b[0;34m)\u001b[0m\u001b[0;34m\u001b[0m\u001b[0;34m\u001b[0m\u001b[0m\n\u001b[0m\u001b[1;32m     26\u001b[0m                 \u001b[0;32melse\u001b[0m\u001b[0;34m:\u001b[0m\u001b[0;34m\u001b[0m\u001b[0;34m\u001b[0m\u001b[0m\n\u001b[1;32m     27\u001b[0m                     \u001b[0mlevy_list\u001b[0m\u001b[0;34m.\u001b[0m\u001b[0mappend\u001b[0m\u001b[0;34m(\u001b[0m\u001b[0mint\u001b[0m\u001b[0;34m(\u001b[0m\u001b[0mi\u001b[0m\u001b[0;34m)\u001b[0m\u001b[0;34m)\u001b[0m\u001b[0;34m\u001b[0m\u001b[0;34m\u001b[0m\u001b[0m\n",
      "\u001b[0;31mNameError\u001b[0m: name 'np' is not defined"
     ]
    }
   ],
   "source": [
    "from Inference import Inference_Pipeline\n",
    "\n",
    "inference = Inference_Pipeline()\n",
    "\n",
    "import pickle\n",
    "with open('Standard_scalars.pkl', 'rb') as handle:\n",
    "    standard_scalar = pickle.load(handle)\n",
    "\n",
    "with open('Encoder.pkl', 'rb') as handle:\n",
    "    dict_encoder = pickle.load(handle)\n",
    "    \n",
    "with open('model_list.pkl', 'rb') as handle:\n",
    "    car_list = pickle.load(handle)\n",
    "    \n",
    "with open('best_model.pkl', 'rb') as handle:\n",
    "    model = pickle.load(handle)\n",
    "    \n",
    "test = inference.car_data_inference(test,standard_scalar, dict_encoder, car_list)\n",
    "\n",
    "model.predict(test)"
   ]
  },
  {
   "cell_type": "code",
   "execution_count": 162,
   "metadata": {},
   "outputs": [],
   "source": [
    "!pip freeze > requirenment.txt"
   ]
  },
  {
   "cell_type": "code",
   "execution_count": null,
   "metadata": {},
   "outputs": [],
   "source": []
  }
 ],
 "metadata": {
  "kernelspec": {
   "display_name": "Python 3",
   "language": "python",
   "name": "python3"
  },
  "language_info": {
   "codemirror_mode": {
    "name": "ipython",
    "version": 3
   },
   "file_extension": ".py",
   "mimetype": "text/x-python",
   "name": "python",
   "nbconvert_exporter": "python",
   "pygments_lexer": "ipython3",
   "version": "3.8.3"
  }
 },
 "nbformat": 4,
 "nbformat_minor": 4
}
